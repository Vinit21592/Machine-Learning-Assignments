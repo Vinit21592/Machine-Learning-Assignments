{
 "cells": [
  {
   "cell_type": "markdown",
   "id": "a47f1315",
   "metadata": {},
   "source": [
    "## Census Income Data Set - Part 2\n",
    "\n",
    "This notebook includes part 2 of Census Income DataSet analysis. In this section a detailed model building is done using different boosting and bagging algorithms to check which algorithm works best on this dataset.\n",
    "\n",
    "In the part 1 section of Census Income DataSet analysis a detailed EDA is performed along with model building.\n",
    "\n",
    "You can check the part 1 analysis from the link given below:\n",
    "* https://www.linkedin.com/posts/vinit-londhe21_adult-census-income-classification-activity-6995454703786446848-f-0N?utm_source=share&utm_medium=member_desktop\n",
    "\n",
    "### Attribute Information:\n",
    "\n",
    "Listing of attributes:\n",
    "\n",
    "1. **>50K, <=50K.**\n",
    "2. age: continuous.\n",
    "3. workclass: Private, Self-emp-not-inc, Self-emp-inc, Federal-gov, Local-gov, State-gov, Without-pay, Never-worked.\n",
    "4. fnlwgt: continuous.\n",
    "5. education: Bachelors, Some-college, 11th, HS-grad, Prof-school, Assoc-acdm, Assoc-voc, 9th, 7th-8th, 12th, Masters, 1st-4th,    10th, Doctorate, 5th-6th, Preschool.\n",
    "6. education-num: continuous.\n",
    "7. marital-status: Married-civ-spouse, Divorced, Never-married, Separated, Widowed, Married-spouse-absent, Married-AF-spouse.\n",
    "8. occupation: Tech-support, Craft-repair, Other-service, Sales, Exec-managerial, Prof-specialty, Handlers-cleaners, Machine-op-    inspct, Adm-clerical, Farming-fishing, Transport-moving, Priv-house-serv, Protective-serv, Armed-Forces.\n",
    "9. relationship: Wife, Own-child, Husband, Not-in-family, Other-relative, Unmarried.\n",
    "10. race: White, Asian-Pac-Islander, Amer-Indian-Eskimo, Other, Black.\n",
    "11. sex: Female, Male.\n",
    "12. capital-gain: continuous.\n",
    "13. capital-loss: continuous.\n",
    "14. hours-per-week: continuous.\n",
    "15. native-country: United-States, Cambodia, England, Puerto-Rico, Canada, Germany, Outlying-US(Guam-USVI-etc), India, Japan, Greece, South, China, Cuba, Iran, Honduras, Philippines, Italy, Poland, Jamaica, Vietnam, Mexico, Portugal, Ireland, France, Dominican-Republic, Laos, Ecuador, Taiwan, Haiti, Columbia, Hungary, Guatemala, Nicaragua, Scotland, Thailand, Yugoslavia, El-Salvador, Trinadad&Tobago, Peru, Hong, Holand-Netherlands.\n",
    "\n",
    "### ML Algorithms used:\n",
    "* Decision Tree Classifier\n",
    "* Random Forest Classifier\n",
    "* Bagging Classifier\n",
    "* Voting Classifier\n",
    "* Extra Trees Classifier\n",
    "* AdaBoost Classifier\n",
    "* Gradient Boosting Classifier\n",
    "* XGBoost Classifier"
   ]
  },
  {
   "cell_type": "markdown",
   "id": "284ab700",
   "metadata": {},
   "source": [
    "## Importing Libraries"
   ]
  },
  {
   "cell_type": "code",
   "execution_count": 1,
   "id": "68c5ab13",
   "metadata": {},
   "outputs": [],
   "source": [
    "import pandas as pd\n",
    "import numpy as np\n",
    "import matplotlib.pyplot as plt\n",
    "import seaborn as sns\n",
    "%matplotlib inline  \n",
    "import warnings\n",
    "warnings.filterwarnings('ignore')"
   ]
  },
  {
   "cell_type": "markdown",
   "id": "24a252b2",
   "metadata": {},
   "source": [
    "## Load the dataset"
   ]
  },
  {
   "cell_type": "code",
   "execution_count": 2,
   "id": "c62dd651",
   "metadata": {},
   "outputs": [],
   "source": [
    "df = pd.read_csv(\"census_income_cleaned.csv\")"
   ]
  },
  {
   "cell_type": "code",
   "execution_count": 3,
   "id": "a82a5189",
   "metadata": {},
   "outputs": [
    {
     "data": {
      "text/html": [
       "<div>\n",
       "<style scoped>\n",
       "    .dataframe tbody tr th:only-of-type {\n",
       "        vertical-align: middle;\n",
       "    }\n",
       "\n",
       "    .dataframe tbody tr th {\n",
       "        vertical-align: top;\n",
       "    }\n",
       "\n",
       "    .dataframe thead th {\n",
       "        text-align: right;\n",
       "    }\n",
       "</style>\n",
       "<table border=\"1\" class=\"dataframe\">\n",
       "  <thead>\n",
       "    <tr style=\"text-align: right;\">\n",
       "      <th></th>\n",
       "      <th>age</th>\n",
       "      <th>workclass</th>\n",
       "      <th>fnlwgt</th>\n",
       "      <th>education</th>\n",
       "      <th>marital-status</th>\n",
       "      <th>occupation</th>\n",
       "      <th>relationship</th>\n",
       "      <th>race</th>\n",
       "      <th>sex</th>\n",
       "      <th>capital-gain</th>\n",
       "      <th>capital-loss</th>\n",
       "      <th>hours-per-week</th>\n",
       "      <th>native-country</th>\n",
       "      <th>income</th>\n",
       "    </tr>\n",
       "  </thead>\n",
       "  <tbody>\n",
       "    <tr>\n",
       "      <th>0</th>\n",
       "      <td>22</td>\n",
       "      <td>3</td>\n",
       "      <td>2491</td>\n",
       "      <td>1</td>\n",
       "      <td>1</td>\n",
       "      <td>0</td>\n",
       "      <td>1</td>\n",
       "      <td>4</td>\n",
       "      <td>1</td>\n",
       "      <td>24</td>\n",
       "      <td>0</td>\n",
       "      <td>8</td>\n",
       "      <td>38</td>\n",
       "      <td>0</td>\n",
       "    </tr>\n",
       "    <tr>\n",
       "      <th>1</th>\n",
       "      <td>33</td>\n",
       "      <td>2</td>\n",
       "      <td>2727</td>\n",
       "      <td>1</td>\n",
       "      <td>0</td>\n",
       "      <td>3</td>\n",
       "      <td>0</td>\n",
       "      <td>4</td>\n",
       "      <td>1</td>\n",
       "      <td>0</td>\n",
       "      <td>0</td>\n",
       "      <td>0</td>\n",
       "      <td>38</td>\n",
       "      <td>0</td>\n",
       "    </tr>\n",
       "    <tr>\n",
       "      <th>2</th>\n",
       "      <td>21</td>\n",
       "      <td>1</td>\n",
       "      <td>13188</td>\n",
       "      <td>3</td>\n",
       "      <td>2</td>\n",
       "      <td>5</td>\n",
       "      <td>1</td>\n",
       "      <td>4</td>\n",
       "      <td>1</td>\n",
       "      <td>0</td>\n",
       "      <td>0</td>\n",
       "      <td>8</td>\n",
       "      <td>38</td>\n",
       "      <td>0</td>\n",
       "    </tr>\n",
       "    <tr>\n",
       "      <th>3</th>\n",
       "      <td>36</td>\n",
       "      <td>1</td>\n",
       "      <td>14354</td>\n",
       "      <td>3</td>\n",
       "      <td>0</td>\n",
       "      <td>5</td>\n",
       "      <td>0</td>\n",
       "      <td>2</td>\n",
       "      <td>1</td>\n",
       "      <td>0</td>\n",
       "      <td>0</td>\n",
       "      <td>8</td>\n",
       "      <td>38</td>\n",
       "      <td>0</td>\n",
       "    </tr>\n",
       "    <tr>\n",
       "      <th>4</th>\n",
       "      <td>11</td>\n",
       "      <td>1</td>\n",
       "      <td>18120</td>\n",
       "      <td>1</td>\n",
       "      <td>0</td>\n",
       "      <td>9</td>\n",
       "      <td>5</td>\n",
       "      <td>2</td>\n",
       "      <td>0</td>\n",
       "      <td>0</td>\n",
       "      <td>0</td>\n",
       "      <td>8</td>\n",
       "      <td>4</td>\n",
       "      <td>0</td>\n",
       "    </tr>\n",
       "  </tbody>\n",
       "</table>\n",
       "</div>"
      ],
      "text/plain": [
       "   age  workclass  fnlwgt  education  marital-status  occupation  \\\n",
       "0   22          3    2491          1               1           0   \n",
       "1   33          2    2727          1               0           3   \n",
       "2   21          1   13188          3               2           5   \n",
       "3   36          1   14354          3               0           5   \n",
       "4   11          1   18120          1               0           9   \n",
       "\n",
       "   relationship  race  sex  capital-gain  capital-loss  hours-per-week  \\\n",
       "0             1     4    1            24             0               8   \n",
       "1             0     4    1             0             0               0   \n",
       "2             1     4    1             0             0               8   \n",
       "3             0     2    1             0             0               8   \n",
       "4             5     2    0             0             0               8   \n",
       "\n",
       "   native-country  income  \n",
       "0              38       0  \n",
       "1              38       0  \n",
       "2              38       0  \n",
       "3              38       0  \n",
       "4               4       0  "
      ]
     },
     "execution_count": 3,
     "metadata": {},
     "output_type": "execute_result"
    }
   ],
   "source": [
    "# Display first five records of the data\n",
    "df.head()"
   ]
  },
  {
   "cell_type": "code",
   "execution_count": 4,
   "id": "c826da2e",
   "metadata": {},
   "outputs": [
    {
     "data": {
      "text/html": [
       "<div>\n",
       "<style scoped>\n",
       "    .dataframe tbody tr th:only-of-type {\n",
       "        vertical-align: middle;\n",
       "    }\n",
       "\n",
       "    .dataframe tbody tr th {\n",
       "        vertical-align: top;\n",
       "    }\n",
       "\n",
       "    .dataframe thead th {\n",
       "        text-align: right;\n",
       "    }\n",
       "</style>\n",
       "<table border=\"1\" class=\"dataframe\">\n",
       "  <thead>\n",
       "    <tr style=\"text-align: right;\">\n",
       "      <th></th>\n",
       "      <th>age</th>\n",
       "      <th>workclass</th>\n",
       "      <th>fnlwgt</th>\n",
       "      <th>education</th>\n",
       "      <th>marital-status</th>\n",
       "      <th>occupation</th>\n",
       "      <th>relationship</th>\n",
       "      <th>race</th>\n",
       "      <th>sex</th>\n",
       "      <th>capital-gain</th>\n",
       "      <th>capital-loss</th>\n",
       "      <th>hours-per-week</th>\n",
       "      <th>native-country</th>\n",
       "      <th>income</th>\n",
       "    </tr>\n",
       "  </thead>\n",
       "  <tbody>\n",
       "    <tr>\n",
       "      <th>30157</th>\n",
       "      <td>10</td>\n",
       "      <td>1</td>\n",
       "      <td>15471</td>\n",
       "      <td>0</td>\n",
       "      <td>0</td>\n",
       "      <td>12</td>\n",
       "      <td>5</td>\n",
       "      <td>4</td>\n",
       "      <td>0</td>\n",
       "      <td>0</td>\n",
       "      <td>0</td>\n",
       "      <td>6</td>\n",
       "      <td>38</td>\n",
       "      <td>0</td>\n",
       "    </tr>\n",
       "    <tr>\n",
       "      <th>30158</th>\n",
       "      <td>23</td>\n",
       "      <td>1</td>\n",
       "      <td>7555</td>\n",
       "      <td>3</td>\n",
       "      <td>0</td>\n",
       "      <td>6</td>\n",
       "      <td>0</td>\n",
       "      <td>4</td>\n",
       "      <td>1</td>\n",
       "      <td>0</td>\n",
       "      <td>0</td>\n",
       "      <td>8</td>\n",
       "      <td>38</td>\n",
       "      <td>1</td>\n",
       "    </tr>\n",
       "    <tr>\n",
       "      <th>30159</th>\n",
       "      <td>41</td>\n",
       "      <td>1</td>\n",
       "      <td>7377</td>\n",
       "      <td>3</td>\n",
       "      <td>3</td>\n",
       "      <td>0</td>\n",
       "      <td>4</td>\n",
       "      <td>4</td>\n",
       "      <td>0</td>\n",
       "      <td>0</td>\n",
       "      <td>0</td>\n",
       "      <td>8</td>\n",
       "      <td>38</td>\n",
       "      <td>0</td>\n",
       "    </tr>\n",
       "    <tr>\n",
       "      <th>30160</th>\n",
       "      <td>5</td>\n",
       "      <td>1</td>\n",
       "      <td>12060</td>\n",
       "      <td>3</td>\n",
       "      <td>1</td>\n",
       "      <td>0</td>\n",
       "      <td>3</td>\n",
       "      <td>4</td>\n",
       "      <td>1</td>\n",
       "      <td>0</td>\n",
       "      <td>0</td>\n",
       "      <td>0</td>\n",
       "      <td>38</td>\n",
       "      <td>0</td>\n",
       "    </tr>\n",
       "    <tr>\n",
       "      <th>30161</th>\n",
       "      <td>35</td>\n",
       "      <td>2</td>\n",
       "      <td>16689</td>\n",
       "      <td>3</td>\n",
       "      <td>0</td>\n",
       "      <td>3</td>\n",
       "      <td>5</td>\n",
       "      <td>4</td>\n",
       "      <td>0</td>\n",
       "      <td>107</td>\n",
       "      <td>0</td>\n",
       "      <td>8</td>\n",
       "      <td>38</td>\n",
       "      <td>1</td>\n",
       "    </tr>\n",
       "  </tbody>\n",
       "</table>\n",
       "</div>"
      ],
      "text/plain": [
       "       age  workclass  fnlwgt  education  marital-status  occupation  \\\n",
       "30157   10          1   15471          0               0          12   \n",
       "30158   23          1    7555          3               0           6   \n",
       "30159   41          1    7377          3               3           0   \n",
       "30160    5          1   12060          3               1           0   \n",
       "30161   35          2   16689          3               0           3   \n",
       "\n",
       "       relationship  race  sex  capital-gain  capital-loss  hours-per-week  \\\n",
       "30157             5     4    0             0             0               6   \n",
       "30158             0     4    1             0             0               8   \n",
       "30159             4     4    0             0             0               8   \n",
       "30160             3     4    1             0             0               0   \n",
       "30161             5     4    0           107             0               8   \n",
       "\n",
       "       native-country  income  \n",
       "30157              38       0  \n",
       "30158              38       1  \n",
       "30159              38       0  \n",
       "30160              38       0  \n",
       "30161              38       1  "
      ]
     },
     "execution_count": 4,
     "metadata": {},
     "output_type": "execute_result"
    }
   ],
   "source": [
    "# Display last five records of the data\n",
    "df.tail()"
   ]
  },
  {
   "cell_type": "code",
   "execution_count": 5,
   "id": "b57c2aa0",
   "metadata": {},
   "outputs": [
    {
     "data": {
      "text/plain": [
       "(30162, 14)"
      ]
     },
     "execution_count": 5,
     "metadata": {},
     "output_type": "execute_result"
    }
   ],
   "source": [
    "# Number of rows and columns\n",
    "df.shape"
   ]
  },
  {
   "cell_type": "code",
   "execution_count": 6,
   "id": "421bd8b1",
   "metadata": {},
   "outputs": [
    {
     "data": {
      "text/plain": [
       "array([0, 1], dtype=int64)"
      ]
     },
     "execution_count": 6,
     "metadata": {},
     "output_type": "execute_result"
    }
   ],
   "source": [
    "df['income'].unique()"
   ]
  },
  {
   "cell_type": "code",
   "execution_count": 7,
   "id": "6eda12c8",
   "metadata": {},
   "outputs": [
    {
     "name": "stdout",
     "output_type": "stream",
     "text": [
      "<class 'pandas.core.frame.DataFrame'>\n",
      "RangeIndex: 30162 entries, 0 to 30161\n",
      "Data columns (total 14 columns):\n",
      " #   Column          Non-Null Count  Dtype\n",
      "---  ------          --------------  -----\n",
      " 0   age             30162 non-null  int64\n",
      " 1   workclass       30162 non-null  int64\n",
      " 2   fnlwgt          30162 non-null  int64\n",
      " 3   education       30162 non-null  int64\n",
      " 4   marital-status  30162 non-null  int64\n",
      " 5   occupation      30162 non-null  int64\n",
      " 6   relationship    30162 non-null  int64\n",
      " 7   race            30162 non-null  int64\n",
      " 8   sex             30162 non-null  int64\n",
      " 9   capital-gain    30162 non-null  int64\n",
      " 10  capital-loss    30162 non-null  int64\n",
      " 11  hours-per-week  30162 non-null  int64\n",
      " 12  native-country  30162 non-null  int64\n",
      " 13  income          30162 non-null  int64\n",
      "dtypes: int64(14)\n",
      "memory usage: 3.2 MB\n"
     ]
    }
   ],
   "source": [
    "# info of the dataset\n",
    "df.info()"
   ]
  },
  {
   "cell_type": "code",
   "execution_count": 8,
   "id": "b34ae5cf",
   "metadata": {},
   "outputs": [
    {
     "data": {
      "text/html": [
       "<div>\n",
       "<style scoped>\n",
       "    .dataframe tbody tr th:only-of-type {\n",
       "        vertical-align: middle;\n",
       "    }\n",
       "\n",
       "    .dataframe tbody tr th {\n",
       "        vertical-align: top;\n",
       "    }\n",
       "\n",
       "    .dataframe thead th {\n",
       "        text-align: right;\n",
       "    }\n",
       "</style>\n",
       "<table border=\"1\" class=\"dataframe\">\n",
       "  <thead>\n",
       "    <tr style=\"text-align: right;\">\n",
       "      <th></th>\n",
       "      <th>count</th>\n",
       "      <th>mean</th>\n",
       "      <th>std</th>\n",
       "      <th>min</th>\n",
       "      <th>25%</th>\n",
       "      <th>50%</th>\n",
       "      <th>75%</th>\n",
       "      <th>max</th>\n",
       "    </tr>\n",
       "  </thead>\n",
       "  <tbody>\n",
       "    <tr>\n",
       "      <th>age</th>\n",
       "      <td>30162.0</td>\n",
       "      <td>21.407201</td>\n",
       "      <td>13.034537</td>\n",
       "      <td>0.0</td>\n",
       "      <td>11.00</td>\n",
       "      <td>20.0</td>\n",
       "      <td>30.00</td>\n",
       "      <td>59.0</td>\n",
       "    </tr>\n",
       "    <tr>\n",
       "      <th>workclass</th>\n",
       "      <td>30162.0</td>\n",
       "      <td>1.402394</td>\n",
       "      <td>0.725132</td>\n",
       "      <td>0.0</td>\n",
       "      <td>1.00</td>\n",
       "      <td>1.0</td>\n",
       "      <td>2.00</td>\n",
       "      <td>3.0</td>\n",
       "    </tr>\n",
       "    <tr>\n",
       "      <th>fnlwgt</th>\n",
       "      <td>30162.0</td>\n",
       "      <td>9814.025065</td>\n",
       "      <td>5651.384187</td>\n",
       "      <td>0.0</td>\n",
       "      <td>5025.25</td>\n",
       "      <td>9689.5</td>\n",
       "      <td>14520.75</td>\n",
       "      <td>19494.0</td>\n",
       "    </tr>\n",
       "    <tr>\n",
       "      <th>education</th>\n",
       "      <td>30162.0</td>\n",
       "      <td>3.757742</td>\n",
       "      <td>2.641574</td>\n",
       "      <td>0.0</td>\n",
       "      <td>2.00</td>\n",
       "      <td>3.0</td>\n",
       "      <td>6.00</td>\n",
       "      <td>8.0</td>\n",
       "    </tr>\n",
       "    <tr>\n",
       "      <th>marital-status</th>\n",
       "      <td>30162.0</td>\n",
       "      <td>0.746403</td>\n",
       "      <td>0.833972</td>\n",
       "      <td>0.0</td>\n",
       "      <td>0.00</td>\n",
       "      <td>1.0</td>\n",
       "      <td>1.00</td>\n",
       "      <td>3.0</td>\n",
       "    </tr>\n",
       "    <tr>\n",
       "      <th>occupation</th>\n",
       "      <td>30162.0</td>\n",
       "      <td>5.959850</td>\n",
       "      <td>4.029566</td>\n",
       "      <td>0.0</td>\n",
       "      <td>2.00</td>\n",
       "      <td>6.0</td>\n",
       "      <td>9.00</td>\n",
       "      <td>13.0</td>\n",
       "    </tr>\n",
       "    <tr>\n",
       "      <th>relationship</th>\n",
       "      <td>30162.0</td>\n",
       "      <td>1.418341</td>\n",
       "      <td>1.601338</td>\n",
       "      <td>0.0</td>\n",
       "      <td>0.00</td>\n",
       "      <td>1.0</td>\n",
       "      <td>3.00</td>\n",
       "      <td>5.0</td>\n",
       "    </tr>\n",
       "    <tr>\n",
       "      <th>race</th>\n",
       "      <td>30162.0</td>\n",
       "      <td>3.678602</td>\n",
       "      <td>0.834709</td>\n",
       "      <td>0.0</td>\n",
       "      <td>4.00</td>\n",
       "      <td>4.0</td>\n",
       "      <td>4.00</td>\n",
       "      <td>4.0</td>\n",
       "    </tr>\n",
       "    <tr>\n",
       "      <th>sex</th>\n",
       "      <td>30162.0</td>\n",
       "      <td>0.675685</td>\n",
       "      <td>0.468126</td>\n",
       "      <td>0.0</td>\n",
       "      <td>0.00</td>\n",
       "      <td>1.0</td>\n",
       "      <td>1.00</td>\n",
       "      <td>1.0</td>\n",
       "    </tr>\n",
       "    <tr>\n",
       "      <th>capital-gain</th>\n",
       "      <td>30162.0</td>\n",
       "      <td>6.552450</td>\n",
       "      <td>23.284819</td>\n",
       "      <td>0.0</td>\n",
       "      <td>0.00</td>\n",
       "      <td>0.0</td>\n",
       "      <td>0.00</td>\n",
       "      <td>117.0</td>\n",
       "    </tr>\n",
       "    <tr>\n",
       "      <th>capital-loss</th>\n",
       "      <td>30162.0</td>\n",
       "      <td>2.072641</td>\n",
       "      <td>10.028470</td>\n",
       "      <td>0.0</td>\n",
       "      <td>0.00</td>\n",
       "      <td>0.0</td>\n",
       "      <td>0.00</td>\n",
       "      <td>89.0</td>\n",
       "    </tr>\n",
       "    <tr>\n",
       "      <th>hours-per-week</th>\n",
       "      <td>30162.0</td>\n",
       "      <td>9.397818</td>\n",
       "      <td>6.358335</td>\n",
       "      <td>0.0</td>\n",
       "      <td>8.00</td>\n",
       "      <td>8.0</td>\n",
       "      <td>13.00</td>\n",
       "      <td>21.0</td>\n",
       "    </tr>\n",
       "    <tr>\n",
       "      <th>native-country</th>\n",
       "      <td>30162.0</td>\n",
       "      <td>36.382567</td>\n",
       "      <td>6.105372</td>\n",
       "      <td>0.0</td>\n",
       "      <td>38.00</td>\n",
       "      <td>38.0</td>\n",
       "      <td>38.00</td>\n",
       "      <td>40.0</td>\n",
       "    </tr>\n",
       "    <tr>\n",
       "      <th>income</th>\n",
       "      <td>30162.0</td>\n",
       "      <td>0.248922</td>\n",
       "      <td>0.432396</td>\n",
       "      <td>0.0</td>\n",
       "      <td>0.00</td>\n",
       "      <td>0.0</td>\n",
       "      <td>0.00</td>\n",
       "      <td>1.0</td>\n",
       "    </tr>\n",
       "  </tbody>\n",
       "</table>\n",
       "</div>"
      ],
      "text/plain": [
       "                  count         mean          std  min      25%     50%  \\\n",
       "age             30162.0    21.407201    13.034537  0.0    11.00    20.0   \n",
       "workclass       30162.0     1.402394     0.725132  0.0     1.00     1.0   \n",
       "fnlwgt          30162.0  9814.025065  5651.384187  0.0  5025.25  9689.5   \n",
       "education       30162.0     3.757742     2.641574  0.0     2.00     3.0   \n",
       "marital-status  30162.0     0.746403     0.833972  0.0     0.00     1.0   \n",
       "occupation      30162.0     5.959850     4.029566  0.0     2.00     6.0   \n",
       "relationship    30162.0     1.418341     1.601338  0.0     0.00     1.0   \n",
       "race            30162.0     3.678602     0.834709  0.0     4.00     4.0   \n",
       "sex             30162.0     0.675685     0.468126  0.0     0.00     1.0   \n",
       "capital-gain    30162.0     6.552450    23.284819  0.0     0.00     0.0   \n",
       "capital-loss    30162.0     2.072641    10.028470  0.0     0.00     0.0   \n",
       "hours-per-week  30162.0     9.397818     6.358335  0.0     8.00     8.0   \n",
       "native-country  30162.0    36.382567     6.105372  0.0    38.00    38.0   \n",
       "income          30162.0     0.248922     0.432396  0.0     0.00     0.0   \n",
       "\n",
       "                     75%      max  \n",
       "age                30.00     59.0  \n",
       "workclass           2.00      3.0  \n",
       "fnlwgt          14520.75  19494.0  \n",
       "education           6.00      8.0  \n",
       "marital-status      1.00      3.0  \n",
       "occupation          9.00     13.0  \n",
       "relationship        3.00      5.0  \n",
       "race                4.00      4.0  \n",
       "sex                 1.00      1.0  \n",
       "capital-gain        0.00    117.0  \n",
       "capital-loss        0.00     89.0  \n",
       "hours-per-week     13.00     21.0  \n",
       "native-country     38.00     40.0  \n",
       "income              0.00      1.0  "
      ]
     },
     "execution_count": 8,
     "metadata": {},
     "output_type": "execute_result"
    }
   ],
   "source": [
    "# Statistical Summary\n",
    "df.describe().T"
   ]
  },
  {
   "cell_type": "code",
   "execution_count": 9,
   "id": "4c03abea",
   "metadata": {},
   "outputs": [
    {
     "data": {
      "text/plain": [
       "0    22654\n",
       "1     7508\n",
       "Name: income, dtype: int64"
      ]
     },
     "execution_count": 9,
     "metadata": {},
     "output_type": "execute_result"
    }
   ],
   "source": [
    "df['income'].value_counts()"
   ]
  },
  {
   "cell_type": "code",
   "execution_count": 10,
   "id": "0359b451",
   "metadata": {},
   "outputs": [
    {
     "data": {
      "text/plain": [
       "47"
      ]
     },
     "execution_count": 10,
     "metadata": {},
     "output_type": "execute_result"
    }
   ],
   "source": [
    "# Check duplicate if any\n",
    "df.duplicated().sum()"
   ]
  },
  {
   "cell_type": "code",
   "execution_count": 11,
   "id": "509b0c35",
   "metadata": {},
   "outputs": [],
   "source": [
    "# Drop duplicates\n",
    "df=df.drop_duplicates()"
   ]
  },
  {
   "cell_type": "code",
   "execution_count": 12,
   "id": "de72c8c4",
   "metadata": {},
   "outputs": [
    {
     "data": {
      "text/plain": [
       "0"
      ]
     },
     "execution_count": 12,
     "metadata": {},
     "output_type": "execute_result"
    }
   ],
   "source": [
    "df.duplicated().sum()"
   ]
  },
  {
   "cell_type": "code",
   "execution_count": 13,
   "id": "89a8eb15",
   "metadata": {},
   "outputs": [
    {
     "data": {
      "text/plain": [
       "(30115, 14)"
      ]
     },
     "execution_count": 13,
     "metadata": {},
     "output_type": "execute_result"
    }
   ],
   "source": [
    "df.shape"
   ]
  },
  {
   "cell_type": "markdown",
   "id": "85e86dcd",
   "metadata": {},
   "source": [
    "## Split the data into X & y"
   ]
  },
  {
   "cell_type": "code",
   "execution_count": 14,
   "id": "7b8cd7ad",
   "metadata": {},
   "outputs": [],
   "source": [
    "# Independent and Dependent Features\n",
    "X=df.drop(['income'],axis=1)\n",
    "y=df['income']"
   ]
  },
  {
   "cell_type": "markdown",
   "id": "575351ed",
   "metadata": {},
   "source": [
    "## Train Test Split"
   ]
  },
  {
   "cell_type": "code",
   "execution_count": 15,
   "id": "3cdd64c2",
   "metadata": {},
   "outputs": [],
   "source": [
    "from sklearn.model_selection import train_test_split\n",
    "X_train, X_test, y_train, y_test = train_test_split(X, y , test_size = 0.33, random_state = 42)"
   ]
  },
  {
   "cell_type": "markdown",
   "id": "28120974",
   "metadata": {},
   "source": [
    "## Model 1: Decision Tree Classifier"
   ]
  },
  {
   "cell_type": "code",
   "execution_count": 16,
   "id": "ef067e08",
   "metadata": {},
   "outputs": [],
   "source": [
    "from sklearn.tree import DecisionTreeClassifier\n",
    "dt_model=DecisionTreeClassifier()"
   ]
  },
  {
   "cell_type": "code",
   "execution_count": 17,
   "id": "754a99ab",
   "metadata": {},
   "outputs": [
    {
     "data": {
      "text/plain": [
       "DecisionTreeClassifier()"
      ]
     },
     "execution_count": 17,
     "metadata": {},
     "output_type": "execute_result"
    }
   ],
   "source": [
    "dt_model.fit(X_train,y_train)"
   ]
  },
  {
   "cell_type": "code",
   "execution_count": 18,
   "id": "45c276c9",
   "metadata": {},
   "outputs": [
    {
     "data": {
      "text/plain": [
       "0.9999008772364574"
      ]
     },
     "execution_count": 18,
     "metadata": {},
     "output_type": "execute_result"
    }
   ],
   "source": [
    "dt_model.score(X_train,y_train)"
   ]
  },
  {
   "cell_type": "code",
   "execution_count": 19,
   "id": "3967fec8",
   "metadata": {},
   "outputs": [],
   "source": [
    "y_pred_dt = dt_model.predict(X_test)"
   ]
  },
  {
   "cell_type": "code",
   "execution_count": 20,
   "id": "76b1a1c2",
   "metadata": {},
   "outputs": [
    {
     "data": {
      "text/html": [
       "<div>\n",
       "<style scoped>\n",
       "    .dataframe tbody tr th:only-of-type {\n",
       "        vertical-align: middle;\n",
       "    }\n",
       "\n",
       "    .dataframe tbody tr th {\n",
       "        vertical-align: top;\n",
       "    }\n",
       "\n",
       "    .dataframe thead th {\n",
       "        text-align: right;\n",
       "    }\n",
       "</style>\n",
       "<table border=\"1\" class=\"dataframe\">\n",
       "  <thead>\n",
       "    <tr style=\"text-align: right;\">\n",
       "      <th></th>\n",
       "      <th>Actual</th>\n",
       "      <th>Predicted</th>\n",
       "    </tr>\n",
       "  </thead>\n",
       "  <tbody>\n",
       "    <tr>\n",
       "      <th>6761</th>\n",
       "      <td>0</td>\n",
       "      <td>0</td>\n",
       "    </tr>\n",
       "    <tr>\n",
       "      <th>22062</th>\n",
       "      <td>0</td>\n",
       "      <td>0</td>\n",
       "    </tr>\n",
       "    <tr>\n",
       "      <th>9397</th>\n",
       "      <td>0</td>\n",
       "      <td>0</td>\n",
       "    </tr>\n",
       "    <tr>\n",
       "      <th>4347</th>\n",
       "      <td>1</td>\n",
       "      <td>1</td>\n",
       "    </tr>\n",
       "    <tr>\n",
       "      <th>8609</th>\n",
       "      <td>0</td>\n",
       "      <td>0</td>\n",
       "    </tr>\n",
       "  </tbody>\n",
       "</table>\n",
       "</div>"
      ],
      "text/plain": [
       "       Actual  Predicted\n",
       "6761        0          0\n",
       "22062       0          0\n",
       "9397        0          0\n",
       "4347        1          1\n",
       "8609        0          0"
      ]
     },
     "execution_count": 20,
     "metadata": {},
     "output_type": "execute_result"
    }
   ],
   "source": [
    "predictions_1 = pd.DataFrame({'Actual': y_test, 'Predicted': y_pred_dt})    \n",
    "predictions_1.head()"
   ]
  },
  {
   "cell_type": "code",
   "execution_count": 16,
   "id": "5d99baaa",
   "metadata": {},
   "outputs": [],
   "source": [
    "from sklearn.metrics import accuracy_score, confusion_matrix, roc_curve, roc_auc_score"
   ]
  },
  {
   "cell_type": "code",
   "execution_count": 22,
   "id": "7d5a8373",
   "metadata": {},
   "outputs": [
    {
     "data": {
      "text/plain": [
       "0.8026765948883076"
      ]
     },
     "execution_count": 22,
     "metadata": {},
     "output_type": "execute_result"
    }
   ],
   "source": [
    "accuracy_dt = accuracy_score(y_test,y_pred_dt)\n",
    "accuracy_dt"
   ]
  },
  {
   "cell_type": "code",
   "execution_count": 27,
   "id": "5ee0b488",
   "metadata": {
    "scrolled": true
   },
   "outputs": [
    {
     "data": {
      "text/plain": [
       "[Text(821.8704044117648, 757.1571428571428, 'marital-status <= 0.5\\ngini = 0.372\\nsamples = 20177\\nvalue = [15186, 4991]\\nclass = 0'),\n",
       " Text(489.78860294117646, 640.6714285714286, 'capital-gain <= 77.0\\ngini = 0.493\\nsamples = 9695\\nvalue = [5405, 4290]\\nclass = 0'),\n",
       " Text(292.33455882352945, 524.1857142857143, 'capital-loss <= 43.5\\ngini = 0.478\\nsamples = 8934\\nvalue = [5396, 3538]\\nclass = 0'),\n",
       " Text(164.11764705882354, 407.7, 'education <= 2.5\\ngini = 0.466\\nsamples = 8454\\nvalue = [5330, 3124]\\nclass = 0'),\n",
       " Text(82.05882352941177, 291.21428571428567, 'education <= 0.5\\ngini = 0.496\\nsamples = 2202\\nvalue = [1002, 1200]\\nclass = 1'),\n",
       " Text(41.029411764705884, 174.7285714285714, 'age <= 17.5\\ngini = 0.473\\nsamples = 650\\nvalue = [401, 249]\\nclass = 0'),\n",
       " Text(20.514705882352942, 58.24285714285713, '\\n  (...)  \\n'),\n",
       " Text(61.544117647058826, 58.24285714285713, '\\n  (...)  \\n'),\n",
       " Text(123.08823529411765, 174.7285714285714, 'capital-gain <= 49.5\\ngini = 0.475\\nsamples = 1552\\nvalue = [601, 951]\\nclass = 1'),\n",
       " Text(102.57352941176471, 58.24285714285713, '\\n  (...)  \\n'),\n",
       " Text(143.6029411764706, 58.24285714285713, '\\n  (...)  \\n'),\n",
       " Text(246.1764705882353, 291.21428571428567, 'education <= 3.5\\ngini = 0.426\\nsamples = 6252\\nvalue = [4328, 1924]\\nclass = 0'),\n",
       " Text(205.14705882352942, 174.7285714285714, 'age <= 19.5\\ngini = 0.358\\nsamples = 3588\\nvalue = [2749, 839]\\nclass = 0'),\n",
       " Text(184.63235294117646, 58.24285714285713, '\\n  (...)  \\n'),\n",
       " Text(225.66176470588238, 58.24285714285713, '\\n  (...)  \\n'),\n",
       " Text(287.2058823529412, 174.7285714285714, 'education <= 4.5\\ngini = 0.483\\nsamples = 2664\\nvalue = [1579, 1085]\\nclass = 0'),\n",
       " Text(266.69117647058823, 58.24285714285713, '\\n  (...)  \\n'),\n",
       " Text(307.72058823529414, 58.24285714285713, '\\n  (...)  \\n'),\n",
       " Text(420.5514705882353, 407.7, 'capital-loss <= 51.5\\ngini = 0.237\\nsamples = 480\\nvalue = [66, 414]\\nclass = 1'),\n",
       " Text(348.75, 291.21428571428567, 'race <= 0.5\\ngini = 0.042\\nsamples = 370\\nvalue = [8, 362]\\nclass = 1'),\n",
       " Text(328.2352941176471, 174.7285714285714, 'gini = 0.0\\nsamples = 1\\nvalue = [1, 0]\\nclass = 0'),\n",
       " Text(369.2647058823529, 174.7285714285714, 'age <= 6.0\\ngini = 0.037\\nsamples = 369\\nvalue = [7, 362]\\nclass = 1'),\n",
       " Text(348.75, 58.24285714285713, '\\n  (...)  \\n'),\n",
       " Text(389.7794117647059, 58.24285714285713, '\\n  (...)  \\n'),\n",
       " Text(492.3529411764706, 291.21428571428567, 'capital-loss <= 64.0\\ngini = 0.499\\nsamples = 110\\nvalue = [58, 52]\\nclass = 0'),\n",
       " Text(451.32352941176475, 174.7285714285714, 'age <= 47.5\\ngini = 0.194\\nsamples = 55\\nvalue = [49, 6]\\nclass = 0'),\n",
       " Text(430.80882352941177, 58.24285714285713, '\\n  (...)  \\n'),\n",
       " Text(471.8382352941177, 58.24285714285713, '\\n  (...)  \\n'),\n",
       " Text(533.3823529411765, 174.7285714285714, 'capital-loss <= 73.5\\ngini = 0.274\\nsamples = 55\\nvalue = [9, 46]\\nclass = 1'),\n",
       " Text(512.8676470588235, 58.24285714285713, '\\n  (...)  \\n'),\n",
       " Text(553.8970588235294, 58.24285714285713, '\\n  (...)  \\n'),\n",
       " Text(687.2426470588235, 524.1857142857143, 'age <= 43.5\\ngini = 0.023\\nsamples = 761\\nvalue = [9, 752]\\nclass = 1'),\n",
       " Text(635.9558823529412, 407.7, 'age <= 10.5\\ngini = 0.006\\nsamples = 693\\nvalue = [2, 691]\\nclass = 1'),\n",
       " Text(594.9264705882354, 291.21428571428567, 'hours-per-week <= 4.0\\ngini = 0.124\\nsamples = 15\\nvalue = [1, 14]\\nclass = 1'),\n",
       " Text(574.4117647058824, 174.7285714285714, 'gini = 0.0\\nsamples = 1\\nvalue = [1, 0]\\nclass = 0'),\n",
       " Text(615.4411764705883, 174.7285714285714, 'gini = 0.0\\nsamples = 14\\nvalue = [0, 14]\\nclass = 1'),\n",
       " Text(676.9852941176471, 291.21428571428567, 'fnlwgt <= 1251.0\\ngini = 0.003\\nsamples = 678\\nvalue = [1, 677]\\nclass = 1'),\n",
       " Text(656.4705882352941, 174.7285714285714, 'fnlwgt <= 1213.5\\ngini = 0.043\\nsamples = 45\\nvalue = [1, 44]\\nclass = 1'),\n",
       " Text(635.9558823529412, 58.24285714285713, '\\n  (...)  \\n'),\n",
       " Text(676.9852941176471, 58.24285714285713, '\\n  (...)  \\n'),\n",
       " Text(697.5, 174.7285714285714, 'gini = 0.0\\nsamples = 633\\nvalue = [0, 633]\\nclass = 1'),\n",
       " Text(738.5294117647059, 407.7, 'fnlwgt <= 668.5\\ngini = 0.185\\nsamples = 68\\nvalue = [7, 61]\\nclass = 1'),\n",
       " Text(718.0147058823529, 291.21428571428567, 'gini = 0.0\\nsamples = 1\\nvalue = [1, 0]\\nclass = 0'),\n",
       " Text(759.0441176470589, 291.21428571428567, 'capital-gain <= 100.5\\ngini = 0.163\\nsamples = 67\\nvalue = [6, 61]\\nclass = 1'),\n",
       " Text(738.5294117647059, 174.7285714285714, 'capital-gain <= 98.5\\ngini = 0.355\\nsamples = 26\\nvalue = [6, 20]\\nclass = 1'),\n",
       " Text(718.0147058823529, 58.24285714285713, '\\n  (...)  \\n'),\n",
       " Text(759.0441176470589, 58.24285714285713, '\\n  (...)  \\n'),\n",
       " Text(779.5588235294118, 174.7285714285714, 'gini = 0.0\\nsamples = 41\\nvalue = [0, 41]\\nclass = 1'),\n",
       " Text(1153.952205882353, 640.6714285714286, 'capital-gain <= 90.0\\ngini = 0.125\\nsamples = 10482\\nvalue = [9781, 701]\\nclass = 0'),\n",
       " Text(1035.9926470588236, 524.1857142857143, 'hours-per-week <= 12.5\\ngini = 0.096\\nsamples = 10293\\nvalue = [9774, 519]\\nclass = 0'),\n",
       " Text(912.904411764706, 407.7, 'capital-loss <= 64.5\\ngini = 0.056\\nsamples = 8269\\nvalue = [8029, 240]\\nclass = 0'),\n",
       " Text(861.6176470588235, 291.21428571428567, 'age <= 16.5\\ngini = 0.053\\nsamples = 8238\\nvalue = [8015, 223]\\nclass = 0'),\n",
       " Text(820.5882352941177, 174.7285714285714, 'age <= 9.5\\ngini = 0.016\\nsamples = 4698\\nvalue = [4659, 39]\\nclass = 0'),\n",
       " Text(800.0735294117648, 58.24285714285713, '\\n  (...)  \\n'),\n",
       " Text(841.1029411764706, 58.24285714285713, '\\n  (...)  \\n'),\n",
       " Text(902.6470588235295, 174.7285714285714, 'occupation <= 8.5\\ngini = 0.099\\nsamples = 3540\\nvalue = [3356, 184]\\nclass = 0'),\n",
       " Text(882.1323529411765, 58.24285714285713, '\\n  (...)  \\n'),\n",
       " Text(923.1617647058824, 58.24285714285713, '\\n  (...)  \\n'),\n",
       " Text(964.1911764705883, 291.21428571428567, 'fnlwgt <= 1149.0\\ngini = 0.495\\nsamples = 31\\nvalue = [14, 17]\\nclass = 1'),\n",
       " Text(943.6764705882354, 174.7285714285714, 'gini = 0.0\\nsamples = 3\\nvalue = [3, 0]\\nclass = 0'),\n",
       " Text(984.7058823529412, 174.7285714285714, 'age <= 25.5\\ngini = 0.477\\nsamples = 28\\nvalue = [11, 17]\\nclass = 1'),\n",
       " Text(964.1911764705883, 58.24285714285713, '\\n  (...)  \\n'),\n",
       " Text(1005.2205882352941, 58.24285714285713, '\\n  (...)  \\n'),\n",
       " Text(1159.0808823529412, 407.7, 'capital-loss <= 73.5\\ngini = 0.238\\nsamples = 2024\\nvalue = [1745, 279]\\nclass = 0'),\n",
       " Text(1107.7941176470588, 291.21428571428567, 'age <= 12.5\\ngini = 0.229\\nsamples = 2009\\nvalue = [1744, 265]\\nclass = 0'),\n",
       " Text(1066.764705882353, 174.7285714285714, 'age <= 8.5\\ngini = 0.082\\nsamples = 674\\nvalue = [645, 29]\\nclass = 0'),\n",
       " Text(1046.25, 58.24285714285713, '\\n  (...)  \\n'),\n",
       " Text(1087.2794117647059, 58.24285714285713, '\\n  (...)  \\n'),\n",
       " Text(1148.8235294117649, 174.7285714285714, 'education <= 2.5\\ngini = 0.291\\nsamples = 1335\\nvalue = [1099, 236]\\nclass = 0'),\n",
       " Text(1128.3088235294117, 58.24285714285713, '\\n  (...)  \\n'),\n",
       " Text(1169.3382352941178, 58.24285714285713, '\\n  (...)  \\n'),\n",
       " Text(1210.3676470588236, 291.21428571428567, 'relationship <= 3.0\\ngini = 0.124\\nsamples = 15\\nvalue = [1, 14]\\nclass = 1'),\n",
       " Text(1189.8529411764707, 174.7285714285714, 'gini = 0.0\\nsamples = 14\\nvalue = [0, 14]\\nclass = 1'),\n",
       " Text(1230.8823529411766, 174.7285714285714, 'gini = 0.0\\nsamples = 1\\nvalue = [1, 0]\\nclass = 0'),\n",
       " Text(1271.9117647058824, 524.1857142857143, 'fnlwgt <= 132.5\\ngini = 0.071\\nsamples = 189\\nvalue = [7, 182]\\nclass = 1'),\n",
       " Text(1251.3970588235295, 407.7, 'gini = 0.0\\nsamples = 2\\nvalue = [2, 0]\\nclass = 0'),\n",
       " Text(1292.4264705882354, 407.7, 'age <= 3.5\\ngini = 0.052\\nsamples = 187\\nvalue = [5, 182]\\nclass = 1'),\n",
       " Text(1271.9117647058824, 291.21428571428567, 'gini = 0.0\\nsamples = 1\\nvalue = [1, 0]\\nclass = 0'),\n",
       " Text(1312.9411764705883, 291.21428571428567, 'capital-gain <= 93.0\\ngini = 0.042\\nsamples = 186\\nvalue = [4, 182]\\nclass = 1'),\n",
       " Text(1271.9117647058824, 174.7285714285714, 'capital-gain <= 91.5\\ngini = 0.42\\nsamples = 10\\nvalue = [3, 7]\\nclass = 1'),\n",
       " Text(1251.3970588235295, 58.24285714285713, '\\n  (...)  \\n'),\n",
       " Text(1292.4264705882354, 58.24285714285713, '\\n  (...)  \\n'),\n",
       " Text(1353.9705882352941, 174.7285714285714, 'capital-gain <= 114.5\\ngini = 0.011\\nsamples = 176\\nvalue = [1, 175]\\nclass = 1'),\n",
       " Text(1333.4558823529412, 58.24285714285713, '\\n  (...)  \\n'),\n",
       " Text(1374.485294117647, 58.24285714285713, '\\n  (...)  \\n')]"
      ]
     },
     "execution_count": 27,
     "metadata": {},
     "output_type": "execute_result"
    },
    {
     "data": {
      "image/png": "[encoded data removed]",
      "text/plain": [
       "<Figure size 1800x1080 with 1 Axes>"
      ]
     },
     "metadata": {
      "needs_background": "light"
     },
     "output_type": "display_data"
    }
   ],
   "source": [
    "from sklearn import tree\n",
    "plt.figure(figsize=(25,15))\n",
    "tree.plot_tree(dt_model,max_depth=5,filled=True,class_names=[str(i) for i in set(y_train)],feature_names=X_train.columns,fontsize=10)"
   ]
  },
  {
   "cell_type": "code",
   "execution_count": 28,
   "id": "97e7bb8e",
   "metadata": {},
   "outputs": [],
   "source": [
    "path = dt_model.cost_complexity_pruning_path(X_train,y_train)\n",
    "ccp_alpha = path.ccp_alphas"
   ]
  },
  {
   "cell_type": "code",
   "execution_count": 29,
   "id": "69ab4602",
   "metadata": {},
   "outputs": [
    {
     "data": {
      "text/plain": [
       "{'ccp_alphas': array([0.00000000e+00, 2.09682769e-05, 2.33230032e-05, ...,\n",
       "        1.53192383e-02, 2.43742767e-02, 7.04377096e-02]),\n",
       " 'impurities': array([9.91227635e-05, 1.41059317e-04, 2.34351330e-04, ...,\n",
       "        2.77534940e-01, 3.01909217e-01, 3.72346926e-01])}"
      ]
     },
     "execution_count": 29,
     "metadata": {},
     "output_type": "execute_result"
    }
   ],
   "source": [
    "path"
   ]
  },
  {
   "cell_type": "code",
   "execution_count": 30,
   "id": "3a6ccab5",
   "metadata": {},
   "outputs": [
    {
     "data": {
      "text/plain": [
       "array([0.00000000e+00, 2.09682769e-05, 2.33230032e-05, ...,\n",
       "       1.53192383e-02, 2.43742767e-02, 7.04377096e-02])"
      ]
     },
     "execution_count": 30,
     "metadata": {},
     "output_type": "execute_result"
    }
   ],
   "source": [
    "ccp_alpha"
   ]
  },
  {
   "cell_type": "code",
   "execution_count": 31,
   "id": "e5190dc3",
   "metadata": {},
   "outputs": [],
   "source": [
    "dt_model2 = []\n",
    "for ccp in ccp_alpha:\n",
    "    dt_m = DecisionTreeClassifier(ccp_alpha=ccp)\n",
    "    dt_m.fit(X_train,y_train)\n",
    "    dt_model2.append(dt_m)"
   ]
  },
  {
   "cell_type": "code",
   "execution_count": 32,
   "id": "af13ee51",
   "metadata": {},
   "outputs": [],
   "source": [
    "# finding training acc. for each of the models\n",
    "train_score = [i.score(X_train,y_train) for i in dt_model2]"
   ]
  },
  {
   "cell_type": "code",
   "execution_count": 33,
   "id": "7e444a66",
   "metadata": {},
   "outputs": [],
   "source": [
    "# finding testing acc. for each of the models\n",
    "test_score = [i.score(X_test,y_test) for i in dt_model2]"
   ]
  },
  {
   "cell_type": "code",
   "execution_count": 34,
   "id": "b1649964",
   "metadata": {},
   "outputs": [
    {
     "data": {
      "text/plain": [
       "<matplotlib.legend.Legend at 0x29669039be0>"
      ]
     },
     "execution_count": 34,
     "metadata": {},
     "output_type": "execute_result"
    },
    {
     "data": {
      "image/png": "[encoded data removed]",
      "text/plain": [
       "<Figure size 432x288 with 1 Axes>"
      ]
     },
     "metadata": {
      "needs_background": "light"
     },
     "output_type": "display_data"
    }
   ],
   "source": [
    "plt.plot(train_score,'r-+',label='train')\n",
    "plt.plot(test_score,'b-+',label='validation')\n",
    "plt.xlabel('Training set size')\n",
    "plt.ylabel('Decision tree score')\n",
    "plt.legend()"
   ]
  },
  {
   "cell_type": "code",
   "execution_count": 35,
   "id": "4a07164c",
   "metadata": {},
   "outputs": [
    {
     "data": {
      "image/png": "[encoded data removed]",
      "text/plain": [
       "<Figure size 432x288 with 1 Axes>"
      ]
     },
     "metadata": {
      "needs_background": "light"
     },
     "output_type": "display_data"
    }
   ],
   "source": [
    "fig, ax = plt.subplots()\n",
    "ax.set_xlabel(\"alpha\")\n",
    "ax.set_ylabel(\"accuracy\")\n",
    "ax.set_title(\"Accuracy vs alpha for training and testing sets\")\n",
    "ax.plot(ccp_alpha,train_score,marker='o',label=\"train\",drawstyle=\"steps-post\")\n",
    "ax.plot(ccp_alpha,test_score,marker='o',label=\"test\",drawstyle=\"steps-post\")\n",
    "ax.legend()\n",
    "plt.show()"
   ]
  },
  {
   "cell_type": "code",
   "execution_count": 36,
   "id": "e4fdfb0d",
   "metadata": {},
   "outputs": [
    {
     "data": {
      "text/plain": [
       "DecisionTreeClassifier(ccp_alpha=0.01, random_state=40)"
      ]
     },
     "execution_count": 36,
     "metadata": {},
     "output_type": "execute_result"
    }
   ],
   "source": [
    "dt_model_ccp = DecisionTreeClassifier(random_state=40,ccp_alpha=0.01)\n",
    "dt_model_ccp.fit(X_train,y_train)"
   ]
  },
  {
   "cell_type": "code",
   "execution_count": 37,
   "id": "14eaa1a0",
   "metadata": {},
   "outputs": [
    {
     "data": {
      "text/plain": [
       "[Text(620.0, 951.3000000000001, 'X[4] <= 0.5\\ngini = 0.372\\nsamples = 20177\\nvalue = [15186, 4991]'),\n",
       " Text(372.0, 679.5, 'X[9] <= 77.0\\ngini = 0.493\\nsamples = 9695\\nvalue = [5405, 4290]'),\n",
       " Text(248.0, 407.70000000000005, 'X[10] <= 43.5\\ngini = 0.478\\nsamples = 8934\\nvalue = [5396, 3538]'),\n",
       " Text(124.0, 135.89999999999998, 'gini = 0.466\\nsamples = 8454\\nvalue = [5330, 3124]'),\n",
       " Text(372.0, 135.89999999999998, 'gini = 0.237\\nsamples = 480\\nvalue = [66, 414]'),\n",
       " Text(496.0, 407.70000000000005, 'gini = 0.023\\nsamples = 761\\nvalue = [9, 752]'),\n",
       " Text(868.0, 679.5, 'X[9] <= 90.0\\ngini = 0.125\\nsamples = 10482\\nvalue = [9781, 701]'),\n",
       " Text(744.0, 407.70000000000005, 'gini = 0.096\\nsamples = 10293\\nvalue = [9774, 519]'),\n",
       " Text(992.0, 407.70000000000005, 'gini = 0.071\\nsamples = 189\\nvalue = [7, 182]')]"
      ]
     },
     "execution_count": 37,
     "metadata": {},
     "output_type": "execute_result"
    },
    {
     "data": {
      "image/png": "[encoded data removed]",
      "text/plain": [
       "<Figure size 1440x1440 with 1 Axes>"
      ]
     },
     "metadata": {
      "needs_background": "light"
     },
     "output_type": "display_data"
    }
   ],
   "source": [
    "plt.figure(figsize=(20,20))\n",
    "tree.plot_tree(dt_model_ccp,filled=True)"
   ]
  },
  {
   "cell_type": "code",
   "execution_count": 38,
   "id": "63d01a24",
   "metadata": {},
   "outputs": [
    {
     "data": {
      "text/plain": [
       "0.8153838529018189"
      ]
     },
     "execution_count": 38,
     "metadata": {},
     "output_type": "execute_result"
    }
   ],
   "source": [
    "dt_model_ccp.score(X_train,y_train)"
   ]
  },
  {
   "cell_type": "code",
   "execution_count": 39,
   "id": "f2f510df",
   "metadata": {},
   "outputs": [],
   "source": [
    "y_pred_dt_ccp = dt_model_ccp.predict(X_test)"
   ]
  },
  {
   "cell_type": "code",
   "execution_count": 41,
   "id": "eda49c0a",
   "metadata": {},
   "outputs": [
    {
     "data": {
      "text/plain": [
       "0.8117327430066412"
      ]
     },
     "execution_count": 41,
     "metadata": {},
     "output_type": "execute_result"
    }
   ],
   "source": [
    "accuracy_dt_ccp = accuracy_score(y_test,y_pred_dt_ccp)\n",
    "accuracy_dt_ccp"
   ]
  },
  {
   "cell_type": "code",
   "execution_count": 43,
   "id": "45ca997e",
   "metadata": {},
   "outputs": [],
   "source": [
    "# Hyperparameter Tuning\n",
    "grid_param = {\"criterion\":['gini','entropy'],\n",
    "              \"splitter\":['best','random'],\n",
    "              \"max_depth\":range(2,40,1),\n",
    "              \"min_samples_split\":range(2,10,1),\n",
    "              \"min_samples_leaf\":range(1,10,1),\n",
    "              \"ccp_alpha\":np.random.rand(20)\n",
    "              }"
   ]
  },
  {
   "cell_type": "code",
   "execution_count": 44,
   "id": "8c5c69f9",
   "metadata": {},
   "outputs": [],
   "source": [
    "from sklearn.model_selection import GridSearchCV\n",
    "grid_ccp = GridSearchCV(estimator=dt_model_ccp, param_grid=grid_param, cv=5, n_jobs=-1)"
   ]
  },
  {
   "cell_type": "code",
   "execution_count": 45,
   "id": "15b5e392",
   "metadata": {},
   "outputs": [
    {
     "data": {
      "text/plain": [
       "GridSearchCV(cv=5,\n",
       "             estimator=DecisionTreeClassifier(ccp_alpha=0.01, random_state=40),\n",
       "             n_jobs=-1,\n",
       "             param_grid={'ccp_alpha': array([0.29816725, 0.59575375, 0.98870751, 0.57382745, 0.18816226,\n",
       "       0.23493775, 0.52530495, 0.31086078, 0.24164535, 0.00710994,\n",
       "       0.19997315, 0.66631518, 0.99635782, 0.8802879 , 0.5245456 ,\n",
       "       0.30498432, 0.45271848, 0.55156524, 0.59695357, 0.77810514]),\n",
       "                         'criterion': ['gini', 'entropy'],\n",
       "                         'max_depth': range(2, 40),\n",
       "                         'min_samples_leaf': range(1, 10),\n",
       "                         'min_samples_split': range(2, 10),\n",
       "                         'splitter': ['best', 'random']})"
      ]
     },
     "execution_count": 45,
     "metadata": {},
     "output_type": "execute_result"
    }
   ],
   "source": [
    "grid_ccp.fit(X_train,y_train)"
   ]
  },
  {
   "cell_type": "code",
   "execution_count": 46,
   "id": "2585f18b",
   "metadata": {},
   "outputs": [
    {
     "data": {
      "text/plain": [
       "{'ccp_alpha': 0.007109935831345338,\n",
       " 'criterion': 'entropy',\n",
       " 'max_depth': 6,\n",
       " 'min_samples_leaf': 1,\n",
       " 'min_samples_split': 2,\n",
       " 'splitter': 'best'}"
      ]
     },
     "execution_count": 46,
     "metadata": {},
     "output_type": "execute_result"
    }
   ],
   "source": [
    "grid_ccp.best_params_"
   ]
  },
  {
   "cell_type": "code",
   "execution_count": 52,
   "id": "441c68b0",
   "metadata": {},
   "outputs": [],
   "source": [
    "dt_ccp_new=DecisionTreeClassifier(criterion='entropy',max_depth=6,min_samples_leaf=1,min_samples_split=2,splitter='best',ccp_alpha=0.01)"
   ]
  },
  {
   "cell_type": "code",
   "execution_count": 53,
   "id": "ddcd499b",
   "metadata": {},
   "outputs": [
    {
     "data": {
      "text/plain": [
       "DecisionTreeClassifier(ccp_alpha=0.01, criterion='entropy', max_depth=6)"
      ]
     },
     "execution_count": 53,
     "metadata": {},
     "output_type": "execute_result"
    }
   ],
   "source": [
    "dt_ccp_new.fit(X_train,y_train)"
   ]
  },
  {
   "cell_type": "code",
   "execution_count": 54,
   "id": "bf49b57e",
   "metadata": {},
   "outputs": [
    {
     "data": {
      "text/plain": [
       "0.825197006492541"
      ]
     },
     "execution_count": 54,
     "metadata": {},
     "output_type": "execute_result"
    }
   ],
   "source": [
    "dt_ccp_new.score(X_train,y_train)"
   ]
  },
  {
   "cell_type": "code",
   "execution_count": 55,
   "id": "5bd967cf",
   "metadata": {},
   "outputs": [],
   "source": [
    "y_pred_ccp_new = dt_ccp_new.predict(X_test)"
   ]
  },
  {
   "cell_type": "code",
   "execution_count": 56,
   "id": "5fdab206",
   "metadata": {},
   "outputs": [
    {
     "data": {
      "text/plain": [
       "0.8216945059368083"
      ]
     },
     "execution_count": 56,
     "metadata": {},
     "output_type": "execute_result"
    }
   ],
   "source": [
    "accuracy_ccp_new = accuracy_score(y_test,y_pred_ccp_new)\n",
    "accuracy_ccp_new"
   ]
  },
  {
   "cell_type": "code",
   "execution_count": 57,
   "id": "1953c266",
   "metadata": {},
   "outputs": [
    {
     "data": {
      "text/plain": [
       "array([[6881,  544],\n",
       "       [1228, 1285]], dtype=int64)"
      ]
     },
     "execution_count": 57,
     "metadata": {},
     "output_type": "execute_result"
    }
   ],
   "source": [
    "# Confusion Matrix\n",
    "conf_mat = confusion_matrix(y_test,y_pred_ccp_new)\n",
    "conf_mat"
   ]
  },
  {
   "cell_type": "code",
   "execution_count": 58,
   "id": "e79a3cf5",
   "metadata": {},
   "outputs": [
    {
     "name": "stdout",
     "output_type": "stream",
     "text": [
      "              precision    recall  f1-score   support\n",
      "\n",
      "           0       0.85      0.93      0.89      7425\n",
      "           1       0.70      0.51      0.59      2513\n",
      "\n",
      "    accuracy                           0.82      9938\n",
      "   macro avg       0.78      0.72      0.74      9938\n",
      "weighted avg       0.81      0.82      0.81      9938\n",
      "\n"
     ]
    }
   ],
   "source": [
    "from sklearn.metrics import classification_report\n",
    "print(classification_report(y_test,y_pred_ccp_new))"
   ]
  },
  {
   "cell_type": "code",
   "execution_count": 59,
   "id": "248b9982",
   "metadata": {},
   "outputs": [
    {
     "data": {
      "text/plain": [
       "0.7190375166976838"
      ]
     },
     "execution_count": 59,
     "metadata": {},
     "output_type": "execute_result"
    }
   ],
   "source": [
    "# Area Under Curve\n",
    "auc = roc_auc_score(y_test, y_pred_ccp_new)\n",
    "auc"
   ]
  },
  {
   "cell_type": "markdown",
   "id": "9f6ba8f4",
   "metadata": {},
   "source": [
    "## ROC"
   ]
  },
  {
   "cell_type": "code",
   "execution_count": 60,
   "id": "8b42348e",
   "metadata": {},
   "outputs": [],
   "source": [
    "fpr, tpr, thresholds = roc_curve(y_test, y_pred_ccp_new)"
   ]
  },
  {
   "cell_type": "code",
   "execution_count": 61,
   "id": "37964217",
   "metadata": {},
   "outputs": [
    {
     "data": {
      "image/png": "[encoded data removed]",
      "text/plain": [
       "<Figure size 432x288 with 1 Axes>"
      ]
     },
     "metadata": {
      "needs_background": "light"
     },
     "output_type": "display_data"
    }
   ],
   "source": [
    "plt.plot(fpr, tpr, color='orange', label='ROC')\n",
    "plt.plot([0, 1], [0, 1], color='darkblue', linestyle='--',label='ROC curve (area = %0.2f)' % auc)\n",
    "plt.xlabel('False Positive Rate')\n",
    "plt.ylabel('True Positive Rate')\n",
    "plt.title('Receiver Operating Characteristic (ROC) Curve')\n",
    "plt.legend()\n",
    "plt.show()"
   ]
  },
  {
   "cell_type": "markdown",
   "id": "cc0cf9c5",
   "metadata": {},
   "source": [
    "## Feature Importance"
   ]
  },
  {
   "cell_type": "code",
   "execution_count": 62,
   "id": "7f3e23b3",
   "metadata": {},
   "outputs": [
    {
     "data": {
      "text/plain": [
       "array([0.04331496, 0.        , 0.        , 0.05126953, 0.54951437,\n",
       "       0.        , 0.        , 0.        , 0.        , 0.29261104,\n",
       "       0.06329009, 0.        , 0.        ])"
      ]
     },
     "execution_count": 62,
     "metadata": {},
     "output_type": "execute_result"
    }
   ],
   "source": [
    "dt_ccp_new.feature_importances_"
   ]
  },
  {
   "cell_type": "code",
   "execution_count": 63,
   "id": "48fa8a9d",
   "metadata": {},
   "outputs": [
    {
     "data": {
      "image/png": "[encoded data removed]",
      "text/plain": [
       "<Figure size 432x288 with 1 Axes>"
      ]
     },
     "metadata": {
      "needs_background": "light"
     },
     "output_type": "display_data"
    }
   ],
   "source": [
    "feat_importances = pd.Series(dt_ccp_new.feature_importances_, index=X_train.columns)\n",
    "feat_importances.nlargest(6).plot(kind='bar')\n",
    "plt.show()"
   ]
  },
  {
   "cell_type": "markdown",
   "id": "581f9618",
   "metadata": {},
   "source": [
    "## Model 2: Random Forest Classifier"
   ]
  },
  {
   "cell_type": "code",
   "execution_count": 17,
   "id": "4a63972a",
   "metadata": {},
   "outputs": [],
   "source": [
    "from sklearn.ensemble import RandomForestClassifier\n",
    "Rf_model=RandomForestClassifier()"
   ]
  },
  {
   "cell_type": "code",
   "execution_count": 18,
   "id": "e78c77cf",
   "metadata": {},
   "outputs": [
    {
     "data": {
      "text/plain": [
       "RandomForestClassifier()"
      ]
     },
     "execution_count": 18,
     "metadata": {},
     "output_type": "execute_result"
    }
   ],
   "source": [
    "Rf_model.fit(X_train,y_train)"
   ]
  },
  {
   "cell_type": "code",
   "execution_count": 19,
   "id": "ed7d8c6f",
   "metadata": {},
   "outputs": [],
   "source": [
    "y_pred_rf = Rf_model.predict(X_test)"
   ]
  },
  {
   "cell_type": "code",
   "execution_count": 20,
   "id": "8bb2dfdb",
   "metadata": {},
   "outputs": [
    {
     "data": {
      "text/plain": [
       "0.9999008772364574"
      ]
     },
     "execution_count": 20,
     "metadata": {},
     "output_type": "execute_result"
    }
   ],
   "source": [
    "Rf_model.score(X_train,y_train)"
   ]
  },
  {
   "cell_type": "code",
   "execution_count": 21,
   "id": "c630e87d",
   "metadata": {},
   "outputs": [
    {
     "data": {
      "text/plain": [
       "0.8484604548198833"
      ]
     },
     "execution_count": 21,
     "metadata": {},
     "output_type": "execute_result"
    }
   ],
   "source": [
    "acc_rf = accuracy_score(y_test,y_pred_rf)\n",
    "acc_rf"
   ]
  },
  {
   "cell_type": "code",
   "execution_count": 22,
   "id": "356a7d4d",
   "metadata": {},
   "outputs": [],
   "source": [
    "# Hyperparameter Tuning\n",
    "random_grid = {'n_estimators' : [5,10,50,100,120,150],\n",
    "              'criterion': ['gini', 'entropy'],\n",
    "              'max_depth' : range(2,20,1),\n",
    "              'min_samples_leaf' : range(1,10,1),\n",
    "              'min_samples_split': range(2,10,1),\n",
    "              'max_features' : ['auto', 'sqrt'],\n",
    "              'ccp_alpha':np.random.rand(20)\n",
    "              }"
   ]
  },
  {
   "cell_type": "code",
   "execution_count": 23,
   "id": "f1e373b7",
   "metadata": {},
   "outputs": [],
   "source": [
    "from sklearn.model_selection import RandomizedSearchCV\n",
    "random_grid_rf=RandomizedSearchCV(estimator=Rf_model,param_distributions=random_grid,n_iter = 10,cv=5,verbose=2,random_state = 42,n_jobs=-1)"
   ]
  },
  {
   "cell_type": "code",
   "execution_count": 24,
   "id": "00877020",
   "metadata": {},
   "outputs": [
    {
     "name": "stdout",
     "output_type": "stream",
     "text": [
      "Fitting 5 folds for each of 10 candidates, totalling 50 fits\n"
     ]
    },
    {
     "data": {
      "text/plain": [
       "RandomizedSearchCV(cv=5, estimator=RandomForestClassifier(), n_jobs=-1,\n",
       "                   param_distributions={'ccp_alpha': array([0.97740119, 0.4499653 , 0.84218891, 0.96808425, 0.62771469,\n",
       "       0.43197316, 0.22150882, 0.97768068, 0.7484626 , 0.03367431,\n",
       "       0.98224824, 0.22234976, 0.51738755, 0.19901732, 0.56141334,\n",
       "       0.31367872, 0.25890814, 0.94079458, 0.12027755, 0.02273801]),\n",
       "                                        'criterion': ['gini', 'entropy'],\n",
       "                                        'max_depth': range(2, 20),\n",
       "                                        'max_features': ['auto', 'sqrt'],\n",
       "                                        'min_samples_leaf': range(1, 10),\n",
       "                                        'min_samples_split': range(2, 10),\n",
       "                                        'n_estimators': [5, 10, 50, 100, 120,\n",
       "                                                         150]},\n",
       "                   random_state=42, verbose=2)"
      ]
     },
     "execution_count": 24,
     "metadata": {},
     "output_type": "execute_result"
    }
   ],
   "source": [
    "random_grid_rf.fit(X_train,y_train)"
   ]
  },
  {
   "cell_type": "code",
   "execution_count": 25,
   "id": "29fec738",
   "metadata": {},
   "outputs": [
    {
     "data": {
      "text/plain": [
       "{'n_estimators': 50,\n",
       " 'min_samples_split': 8,\n",
       " 'min_samples_leaf': 3,\n",
       " 'max_features': 'auto',\n",
       " 'max_depth': 17,\n",
       " 'criterion': 'entropy',\n",
       " 'ccp_alpha': 0.9680842507523709}"
      ]
     },
     "execution_count": 25,
     "metadata": {},
     "output_type": "execute_result"
    }
   ],
   "source": [
    "random_grid_rf.best_params_"
   ]
  },
  {
   "cell_type": "code",
   "execution_count": 26,
   "id": "4410350d",
   "metadata": {},
   "outputs": [
    {
     "data": {
      "text/plain": [
       "0.7526391473025301"
      ]
     },
     "execution_count": 26,
     "metadata": {},
     "output_type": "execute_result"
    }
   ],
   "source": [
    "random_grid_rf.best_score_"
   ]
  },
  {
   "cell_type": "code",
   "execution_count": 46,
   "id": "dcfc151f",
   "metadata": {},
   "outputs": [],
   "source": [
    "Rf_model_new=RandomForestClassifier(n_estimators=50,min_samples_split=8,min_samples_leaf=3,max_features='auto',max_depth=17,criterion='entropy',ccp_alpha=0.01)"
   ]
  },
  {
   "cell_type": "code",
   "execution_count": 47,
   "id": "c06f9bb2",
   "metadata": {},
   "outputs": [
    {
     "data": {
      "text/plain": [
       "RandomForestClassifier(ccp_alpha=0.01, criterion='entropy', max_depth=17,\n",
       "                       min_samples_leaf=3, min_samples_split=8,\n",
       "                       n_estimators=50)"
      ]
     },
     "execution_count": 47,
     "metadata": {},
     "output_type": "execute_result"
    }
   ],
   "source": [
    "Rf_model_new.fit(X_train,y_train)"
   ]
  },
  {
   "cell_type": "code",
   "execution_count": 48,
   "id": "4785f189",
   "metadata": {},
   "outputs": [],
   "source": [
    "y_pred_rf_new=Rf_model_new.predict(X_test)"
   ]
  },
  {
   "cell_type": "code",
   "execution_count": 49,
   "id": "766f18fb",
   "metadata": {},
   "outputs": [
    {
     "data": {
      "text/plain": [
       "0.8130544679585667"
      ]
     },
     "execution_count": 49,
     "metadata": {},
     "output_type": "execute_result"
    }
   ],
   "source": [
    "Rf_model_new.score(X_train,y_train)"
   ]
  },
  {
   "cell_type": "code",
   "execution_count": 50,
   "id": "d58c6b86",
   "metadata": {},
   "outputs": [
    {
     "data": {
      "text/plain": [
       "0.80961964177903"
      ]
     },
     "execution_count": 50,
     "metadata": {},
     "output_type": "execute_result"
    }
   ],
   "source": [
    "acc_rf_new = accuracy_score(y_test,y_pred_rf_new)\n",
    "acc_rf_new"
   ]
  },
  {
   "cell_type": "code",
   "execution_count": 51,
   "id": "1205fc87",
   "metadata": {},
   "outputs": [
    {
     "data": {
      "text/plain": [
       "array([[7387,   38],\n",
       "       [1854,  659]], dtype=int64)"
      ]
     },
     "execution_count": 51,
     "metadata": {},
     "output_type": "execute_result"
    }
   ],
   "source": [
    "# Confusion Matrix\n",
    "conf_mat_rf = confusion_matrix(y_test,y_pred_rf_new)\n",
    "conf_mat_rf"
   ]
  },
  {
   "cell_type": "code",
   "execution_count": 52,
   "id": "bdf9cc2f",
   "metadata": {},
   "outputs": [
    {
     "name": "stdout",
     "output_type": "stream",
     "text": [
      "              precision    recall  f1-score   support\n",
      "\n",
      "           0       0.80      0.99      0.89      7425\n",
      "           1       0.95      0.26      0.41      2513\n",
      "\n",
      "    accuracy                           0.81      9938\n",
      "   macro avg       0.87      0.63      0.65      9938\n",
      "weighted avg       0.84      0.81      0.77      9938\n",
      "\n"
     ]
    }
   ],
   "source": [
    "from sklearn.metrics import classification_report\n",
    "print(classification_report(y_test,y_pred_rf_new))"
   ]
  },
  {
   "cell_type": "code",
   "execution_count": 88,
   "id": "958c8ff8",
   "metadata": {},
   "outputs": [
    {
     "data": {
      "text/plain": [
       "0.6285592628768116"
      ]
     },
     "execution_count": 88,
     "metadata": {},
     "output_type": "execute_result"
    }
   ],
   "source": [
    "# Area Under Curve\n",
    "auc = roc_auc_score(y_test, y_pred_rf_new)\n",
    "auc"
   ]
  },
  {
   "cell_type": "code",
   "execution_count": 62,
   "id": "a68fcfec",
   "metadata": {},
   "outputs": [],
   "source": [
    "from sklearn.metrics import plot_confusion_matrix"
   ]
  },
  {
   "cell_type": "code",
   "execution_count": 63,
   "id": "aa2f73cf",
   "metadata": {},
   "outputs": [
    {
     "data": {
      "text/plain": [
       "<Figure size 360x360 with 0 Axes>"
      ]
     },
     "metadata": {},
     "output_type": "display_data"
    },
    {
     "data": {
      "image/png": "[encoded data removed]",
      "text/plain": [
       "<Figure size 432x288 with 2 Axes>"
      ]
     },
     "metadata": {
      "needs_background": "light"
     },
     "output_type": "display_data"
    }
   ],
   "source": [
    "# Confusion matrix display\n",
    "plt.figure(figsize=(5,5))\n",
    "plot_confusion_matrix(Rf_model_new, X_test, y_test)  \n",
    "plt.show()"
   ]
  },
  {
   "cell_type": "markdown",
   "id": "61635de3",
   "metadata": {},
   "source": [
    "## ROC"
   ]
  },
  {
   "cell_type": "code",
   "execution_count": 87,
   "id": "0886a225",
   "metadata": {},
   "outputs": [],
   "source": [
    "fpr, tpr, thresholds = roc_curve(y_test, y_pred_rf_new)"
   ]
  },
  {
   "cell_type": "code",
   "execution_count": 89,
   "id": "dd597c3e",
   "metadata": {},
   "outputs": [
    {
     "data": {
      "image/png": "[encoded data removed]",
      "text/plain": [
       "<Figure size 432x288 with 1 Axes>"
      ]
     },
     "metadata": {
      "needs_background": "light"
     },
     "output_type": "display_data"
    }
   ],
   "source": [
    "plt.plot(fpr, tpr, color='orange', label='ROC')\n",
    "plt.plot([0, 1], [0, 1], color='darkblue', linestyle='--',label='ROC curve (area = %0.2f)' % auc)\n",
    "plt.xlabel('False Positive Rate')\n",
    "plt.ylabel('True Positive Rate')\n",
    "plt.title('Receiver Operating Characteristic (ROC) Curve')\n",
    "plt.legend()\n",
    "plt.show()"
   ]
  },
  {
   "cell_type": "markdown",
   "id": "4907794e",
   "metadata": {},
   "source": [
    "## Feature Importance"
   ]
  },
  {
   "cell_type": "code",
   "execution_count": 90,
   "id": "d3895fcb",
   "metadata": {},
   "outputs": [
    {
     "data": {
      "text/plain": [
       "array([1.10448013e-01, 6.84800558e-04, 0.00000000e+00, 3.37648729e-02,\n",
       "       3.51507789e-01, 5.08660418e-03, 1.95559383e-01, 1.23573930e-03,\n",
       "       2.00964572e-02, 1.95847655e-01, 2.84109529e-02, 5.72152225e-02,\n",
       "       1.42511061e-04])"
      ]
     },
     "execution_count": 90,
     "metadata": {},
     "output_type": "execute_result"
    }
   ],
   "source": [
    "Rf_model_new.feature_importances_"
   ]
  },
  {
   "cell_type": "code",
   "execution_count": 91,
   "id": "5f5e69eb",
   "metadata": {},
   "outputs": [
    {
     "data": {
      "image/png": "[encoded data removed]",
      "text/plain": [
       "<Figure size 432x288 with 1 Axes>"
      ]
     },
     "metadata": {
      "needs_background": "light"
     },
     "output_type": "display_data"
    }
   ],
   "source": [
    "feat_importances = pd.Series(Rf_model_new.feature_importances_, index=X_train.columns)\n",
    "feat_importances.nlargest(6).plot(kind='bar')\n",
    "plt.show()"
   ]
  },
  {
   "cell_type": "markdown",
   "id": "7e1893bf",
   "metadata": {},
   "source": [
    "## Model 3: Bagging Classifier"
   ]
  },
  {
   "cell_type": "markdown",
   "id": "87522c2e",
   "metadata": {},
   "source": [
    "### Using Logistic Regression as base estimator"
   ]
  },
  {
   "cell_type": "code",
   "execution_count": 93,
   "id": "3d4a40dc",
   "metadata": {},
   "outputs": [],
   "source": [
    "from sklearn.ensemble import BaggingClassifier\n",
    "from sklearn.linear_model import LogisticRegression"
   ]
  },
  {
   "cell_type": "code",
   "execution_count": 94,
   "id": "2579e841",
   "metadata": {},
   "outputs": [],
   "source": [
    "bag_log = BaggingClassifier(base_estimator=LogisticRegression(),n_estimators=10, random_state=0)"
   ]
  },
  {
   "cell_type": "code",
   "execution_count": 95,
   "id": "84d5a2ad",
   "metadata": {},
   "outputs": [
    {
     "data": {
      "text/plain": [
       "BaggingClassifier(base_estimator=LogisticRegression(), random_state=0)"
      ]
     },
     "execution_count": 95,
     "metadata": {},
     "output_type": "execute_result"
    }
   ],
   "source": [
    "bag_log.fit(X_train,y_train)"
   ]
  },
  {
   "cell_type": "code",
   "execution_count": 96,
   "id": "525dc11c",
   "metadata": {},
   "outputs": [],
   "source": [
    "y_pred_bag_log=bag_log.predict(X_test)"
   ]
  },
  {
   "cell_type": "code",
   "execution_count": 97,
   "id": "80113f5e",
   "metadata": {},
   "outputs": [
    {
     "data": {
      "text/plain": [
       "0.7877842624270477"
      ]
     },
     "execution_count": 97,
     "metadata": {},
     "output_type": "execute_result"
    }
   ],
   "source": [
    "acc_bag_log=accuracy_score(y_test,y_pred_bag_log)\n",
    "acc_bag_log"
   ]
  },
  {
   "cell_type": "code",
   "execution_count": 98,
   "id": "29d15ee2",
   "metadata": {},
   "outputs": [
    {
     "data": {
      "text/plain": [
       "0.7932299152500372"
      ]
     },
     "execution_count": 98,
     "metadata": {},
     "output_type": "execute_result"
    }
   ],
   "source": [
    "bag_log.score(X_train,y_train)"
   ]
  },
  {
   "cell_type": "code",
   "execution_count": 99,
   "id": "fd8009fc",
   "metadata": {},
   "outputs": [
    {
     "data": {
      "text/plain": [
       "array([[6967,  458],\n",
       "       [1651,  862]], dtype=int64)"
      ]
     },
     "execution_count": 99,
     "metadata": {},
     "output_type": "execute_result"
    }
   ],
   "source": [
    "# Confusion Matrix\n",
    "conf_mat_log = confusion_matrix(y_test,y_pred_bag_log)\n",
    "conf_mat_log"
   ]
  },
  {
   "cell_type": "code",
   "execution_count": 100,
   "id": "265214b3",
   "metadata": {},
   "outputs": [
    {
     "data": {
      "text/plain": [
       "0.6406664067388302"
      ]
     },
     "execution_count": 100,
     "metadata": {},
     "output_type": "execute_result"
    }
   ],
   "source": [
    "# Area Under Curve\n",
    "auc = roc_auc_score(y_test, y_pred_bag_log)\n",
    "auc"
   ]
  },
  {
   "cell_type": "code",
   "execution_count": 101,
   "id": "58d44004",
   "metadata": {},
   "outputs": [
    {
     "name": "stdout",
     "output_type": "stream",
     "text": [
      "              precision    recall  f1-score   support\n",
      "\n",
      "           0       0.81      0.94      0.87      7425\n",
      "           1       0.65      0.34      0.45      2513\n",
      "\n",
      "    accuracy                           0.79      9938\n",
      "   macro avg       0.73      0.64      0.66      9938\n",
      "weighted avg       0.77      0.79      0.76      9938\n",
      "\n"
     ]
    }
   ],
   "source": [
    "print(classification_report(y_test,y_pred_bag_log))"
   ]
  },
  {
   "cell_type": "markdown",
   "id": "9d3725e7",
   "metadata": {},
   "source": [
    "### Using Support Vector Classifier as base estimator"
   ]
  },
  {
   "cell_type": "code",
   "execution_count": 102,
   "id": "793f7af6",
   "metadata": {},
   "outputs": [],
   "source": [
    "from sklearn.svm import SVC"
   ]
  },
  {
   "cell_type": "code",
   "execution_count": 104,
   "id": "64440792",
   "metadata": {},
   "outputs": [],
   "source": [
    "bag_svc = BaggingClassifier(base_estimator=SVC(),n_estimators=10, random_state=0)\n",
    "bag_svc.fit(X_train,y_train)\n",
    "y_pred_bag_svc = bag_svc.predict(X_test)"
   ]
  },
  {
   "cell_type": "code",
   "execution_count": 105,
   "id": "04a7f8c4",
   "metadata": {},
   "outputs": [
    {
     "data": {
      "text/plain": [
       "0.7471322197625276"
      ]
     },
     "execution_count": 105,
     "metadata": {},
     "output_type": "execute_result"
    }
   ],
   "source": [
    "acc_bag_svc=accuracy_score(y_test,y_pred_bag_svc)\n",
    "acc_bag_svc"
   ]
  },
  {
   "cell_type": "code",
   "execution_count": 106,
   "id": "5a8ba5c4",
   "metadata": {},
   "outputs": [
    {
     "data": {
      "text/plain": [
       "0.752639143579323"
      ]
     },
     "execution_count": 106,
     "metadata": {},
     "output_type": "execute_result"
    }
   ],
   "source": [
    "bag_svc.score(X_train,y_train)"
   ]
  },
  {
   "cell_type": "code",
   "execution_count": 107,
   "id": "bd994a2d",
   "metadata": {},
   "outputs": [
    {
     "data": {
      "text/plain": [
       "array([[7425,    0],\n",
       "       [2513,    0]], dtype=int64)"
      ]
     },
     "execution_count": 107,
     "metadata": {},
     "output_type": "execute_result"
    }
   ],
   "source": [
    "# Confusion Matrix\n",
    "conf_mat_svc = confusion_matrix(y_test,y_pred_bag_svc)\n",
    "conf_mat_svc"
   ]
  },
  {
   "cell_type": "code",
   "execution_count": 108,
   "id": "88552100",
   "metadata": {},
   "outputs": [
    {
     "name": "stdout",
     "output_type": "stream",
     "text": [
      "              precision    recall  f1-score   support\n",
      "\n",
      "           0       0.75      1.00      0.86      7425\n",
      "           1       0.00      0.00      0.00      2513\n",
      "\n",
      "    accuracy                           0.75      9938\n",
      "   macro avg       0.37      0.50      0.43      9938\n",
      "weighted avg       0.56      0.75      0.64      9938\n",
      "\n"
     ]
    }
   ],
   "source": [
    "print(classification_report(y_test,y_pred_bag_svc))"
   ]
  },
  {
   "cell_type": "code",
   "execution_count": 110,
   "id": "22f815c4",
   "metadata": {},
   "outputs": [
    {
     "data": {
      "text/plain": [
       "0.5"
      ]
     },
     "execution_count": 110,
     "metadata": {},
     "output_type": "execute_result"
    }
   ],
   "source": [
    "# Area Under Curve\n",
    "auc = roc_auc_score(y_test, y_pred_bag_svc)\n",
    "auc"
   ]
  },
  {
   "cell_type": "markdown",
   "id": "b8875078",
   "metadata": {},
   "source": [
    "### Using KNN Classifier as base estimator"
   ]
  },
  {
   "cell_type": "code",
   "execution_count": 111,
   "id": "d38aab37",
   "metadata": {},
   "outputs": [],
   "source": [
    "from sklearn.neighbors import KNeighborsClassifier"
   ]
  },
  {
   "cell_type": "code",
   "execution_count": 112,
   "id": "f13562df",
   "metadata": {},
   "outputs": [],
   "source": [
    "bag_knn= BaggingClassifier(base_estimator=KNeighborsClassifier(6),n_estimators=10, random_state=0)\n",
    "bag_knn.fit(X_train,y_train)\n",
    "y_pred_bag_knn = bag_svc.predict(X_test)"
   ]
  },
  {
   "cell_type": "code",
   "execution_count": 113,
   "id": "8aec3685",
   "metadata": {},
   "outputs": [
    {
     "data": {
      "text/plain": [
       "0.7471322197625276"
      ]
     },
     "execution_count": 113,
     "metadata": {},
     "output_type": "execute_result"
    }
   ],
   "source": [
    "acc_bag_knn=accuracy_score(y_test,y_pred_bag_knn)\n",
    "acc_bag_knn"
   ]
  },
  {
   "cell_type": "code",
   "execution_count": 114,
   "id": "caff1089",
   "metadata": {},
   "outputs": [
    {
     "data": {
      "text/plain": [
       "0.830698319869158"
      ]
     },
     "execution_count": 114,
     "metadata": {},
     "output_type": "execute_result"
    }
   ],
   "source": [
    "bag_knn.score(X_train,y_train)"
   ]
  },
  {
   "cell_type": "code",
   "execution_count": 115,
   "id": "81ab454f",
   "metadata": {},
   "outputs": [
    {
     "data": {
      "text/plain": [
       "array([[7425,    0],\n",
       "       [2513,    0]], dtype=int64)"
      ]
     },
     "execution_count": 115,
     "metadata": {},
     "output_type": "execute_result"
    }
   ],
   "source": [
    "# Confusion Matrix\n",
    "conf_mat_knn = confusion_matrix(y_test,y_pred_bag_knn)\n",
    "conf_mat_knn"
   ]
  },
  {
   "cell_type": "code",
   "execution_count": 116,
   "id": "8eb877c4",
   "metadata": {},
   "outputs": [
    {
     "name": "stdout",
     "output_type": "stream",
     "text": [
      "              precision    recall  f1-score   support\n",
      "\n",
      "           0       0.75      1.00      0.86      7425\n",
      "           1       0.00      0.00      0.00      2513\n",
      "\n",
      "    accuracy                           0.75      9938\n",
      "   macro avg       0.37      0.50      0.43      9938\n",
      "weighted avg       0.56      0.75      0.64      9938\n",
      "\n"
     ]
    }
   ],
   "source": [
    "print(classification_report(y_test,y_pred_bag_knn))"
   ]
  },
  {
   "cell_type": "code",
   "execution_count": 117,
   "id": "1bbc4353",
   "metadata": {},
   "outputs": [
    {
     "data": {
      "text/plain": [
       "0.5"
      ]
     },
     "execution_count": 117,
     "metadata": {},
     "output_type": "execute_result"
    }
   ],
   "source": [
    "# Area Under Curve\n",
    "auc = roc_auc_score(y_test, y_pred_bag_knn)\n",
    "auc"
   ]
  },
  {
   "cell_type": "markdown",
   "id": "ae40cc3a",
   "metadata": {},
   "source": [
    "## Model 4: Voting Classifier"
   ]
  },
  {
   "cell_type": "code",
   "execution_count": 122,
   "id": "47b27973",
   "metadata": {},
   "outputs": [],
   "source": [
    "from sklearn.ensemble import VotingClassifier\n",
    "from sklearn.tree import DecisionTreeClassifier"
   ]
  },
  {
   "cell_type": "code",
   "execution_count": 123,
   "id": "aa336da5",
   "metadata": {},
   "outputs": [],
   "source": [
    "r1 = LogisticRegression()\n",
    "r2 = DecisionTreeClassifier()\n",
    "r3 = RandomForestClassifier()"
   ]
  },
  {
   "cell_type": "code",
   "execution_count": 124,
   "id": "bfa0c5b3",
   "metadata": {},
   "outputs": [
    {
     "data": {
      "text/plain": [
       "VotingClassifier(estimators=[('lr', LogisticRegression()),\n",
       "                             ('dt', DecisionTreeClassifier()),\n",
       "                             ('rf', RandomForestClassifier())])"
      ]
     },
     "execution_count": 124,
     "metadata": {},
     "output_type": "execute_result"
    }
   ],
   "source": [
    "model_vote = VotingClassifier([('lr', r1), ('dt', r2), ('rf', r3)])\n",
    "model_vote.fit(X_train,y_train)"
   ]
  },
  {
   "cell_type": "code",
   "execution_count": 125,
   "id": "911233fa",
   "metadata": {},
   "outputs": [],
   "source": [
    "y_pred_vote = model_vote.predict(X_test)"
   ]
  },
  {
   "cell_type": "code",
   "execution_count": 126,
   "id": "1d5fdd0a",
   "metadata": {},
   "outputs": [
    {
     "data": {
      "text/plain": [
       "0.8362849667941236"
      ]
     },
     "execution_count": 126,
     "metadata": {},
     "output_type": "execute_result"
    }
   ],
   "source": [
    "acc_vote=accuracy_score(y_test,y_pred_vote)\n",
    "acc_vote"
   ]
  },
  {
   "cell_type": "code",
   "execution_count": 127,
   "id": "e2c4eff6",
   "metadata": {},
   "outputs": [
    {
     "data": {
      "text/plain": [
       "0.9999008772364574"
      ]
     },
     "execution_count": 127,
     "metadata": {},
     "output_type": "execute_result"
    }
   ],
   "source": [
    "model_vote.score(X_train,y_train)"
   ]
  },
  {
   "cell_type": "code",
   "execution_count": 129,
   "id": "bb37e404",
   "metadata": {},
   "outputs": [
    {
     "data": {
      "text/plain": [
       "array([[6926,  499],\n",
       "       [1128, 1385]], dtype=int64)"
      ]
     },
     "execution_count": 129,
     "metadata": {},
     "output_type": "execute_result"
    }
   ],
   "source": [
    "# Confusion Matrix\n",
    "conf_mat_vote = confusion_matrix(y_test,y_pred_vote)\n",
    "conf_mat_vote"
   ]
  },
  {
   "cell_type": "code",
   "execution_count": 130,
   "id": "942f1ca9",
   "metadata": {},
   "outputs": [
    {
     "name": "stdout",
     "output_type": "stream",
     "text": [
      "              precision    recall  f1-score   support\n",
      "\n",
      "           0       0.86      0.93      0.89      7425\n",
      "           1       0.74      0.55      0.63      2513\n",
      "\n",
      "    accuracy                           0.84      9938\n",
      "   macro avg       0.80      0.74      0.76      9938\n",
      "weighted avg       0.83      0.84      0.83      9938\n",
      "\n"
     ]
    }
   ],
   "source": [
    "print(classification_report(y_test,y_pred_vote))"
   ]
  },
  {
   "cell_type": "code",
   "execution_count": 133,
   "id": "5c2c2755",
   "metadata": {},
   "outputs": [
    {
     "data": {
      "text/plain": [
       "0.7419643577303745"
      ]
     },
     "execution_count": 133,
     "metadata": {},
     "output_type": "execute_result"
    }
   ],
   "source": [
    "# Area Under Curve\n",
    "auc = roc_auc_score(y_test, y_pred_vote)\n",
    "auc"
   ]
  },
  {
   "cell_type": "markdown",
   "id": "e7f2f3e2",
   "metadata": {},
   "source": [
    "## Model 5: Extra Trees Classifier"
   ]
  },
  {
   "cell_type": "code",
   "execution_count": 134,
   "id": "e1f3473a",
   "metadata": {},
   "outputs": [],
   "source": [
    "from sklearn.ensemble import ExtraTreesClassifier"
   ]
  },
  {
   "cell_type": "code",
   "execution_count": 135,
   "id": "38400d46",
   "metadata": {},
   "outputs": [],
   "source": [
    "etc = ExtraTreesClassifier(n_estimators=100, random_state=0)\n",
    "etc.fit(X_train,y_train)\n",
    "y_pred_etc=etc.predict(X_test)"
   ]
  },
  {
   "cell_type": "code",
   "execution_count": 136,
   "id": "6a3ca110",
   "metadata": {},
   "outputs": [
    {
     "data": {
      "text/plain": [
       "0.8370899577379755"
      ]
     },
     "execution_count": 136,
     "metadata": {},
     "output_type": "execute_result"
    }
   ],
   "source": [
    "acc_etc=accuracy_score(y_test,y_pred_etc)\n",
    "acc_etc"
   ]
  },
  {
   "cell_type": "code",
   "execution_count": 137,
   "id": "f812680a",
   "metadata": {},
   "outputs": [
    {
     "data": {
      "text/plain": [
       "0.9999008772364574"
      ]
     },
     "execution_count": 137,
     "metadata": {},
     "output_type": "execute_result"
    }
   ],
   "source": [
    "etc.score(X_train,y_train)"
   ]
  },
  {
   "cell_type": "code",
   "execution_count": 138,
   "id": "8aae5e35",
   "metadata": {},
   "outputs": [
    {
     "data": {
      "text/plain": [
       "array([[6799,  626],\n",
       "       [ 993, 1520]], dtype=int64)"
      ]
     },
     "execution_count": 138,
     "metadata": {},
     "output_type": "execute_result"
    }
   ],
   "source": [
    "# Confusion Matrix\n",
    "conf_mat_etc = confusion_matrix(y_test,y_pred_etc)\n",
    "conf_mat_etc"
   ]
  },
  {
   "cell_type": "code",
   "execution_count": 139,
   "id": "08d47421",
   "metadata": {},
   "outputs": [
    {
     "name": "stdout",
     "output_type": "stream",
     "text": [
      "              precision    recall  f1-score   support\n",
      "\n",
      "           0       0.87      0.92      0.89      7425\n",
      "           1       0.71      0.60      0.65      2513\n",
      "\n",
      "    accuracy                           0.84      9938\n",
      "   macro avg       0.79      0.76      0.77      9938\n",
      "weighted avg       0.83      0.84      0.83      9938\n",
      "\n"
     ]
    }
   ],
   "source": [
    "print(classification_report(y_test,y_pred_etc))"
   ]
  },
  {
   "cell_type": "code",
   "execution_count": 140,
   "id": "69e9889c",
   "metadata": {},
   "outputs": [
    {
     "data": {
      "text/plain": [
       "0.7602724954814092"
      ]
     },
     "execution_count": 140,
     "metadata": {},
     "output_type": "execute_result"
    }
   ],
   "source": [
    "# Area Under Curve\n",
    "auc = roc_auc_score(y_test, y_pred_etc)\n",
    "auc"
   ]
  },
  {
   "cell_type": "markdown",
   "id": "c8c1c0db",
   "metadata": {},
   "source": [
    "## Feature Importance"
   ]
  },
  {
   "cell_type": "code",
   "execution_count": 141,
   "id": "79c0ef91",
   "metadata": {},
   "outputs": [
    {
     "data": {
      "text/plain": [
       "array([0.16741664, 0.02838053, 0.17348454, 0.08897796, 0.08345194,\n",
       "       0.09792591, 0.07328943, 0.01647122, 0.0258485 , 0.10869479,\n",
       "       0.03626391, 0.08082332, 0.01897132])"
      ]
     },
     "execution_count": 141,
     "metadata": {},
     "output_type": "execute_result"
    }
   ],
   "source": [
    "etc.feature_importances_"
   ]
  },
  {
   "cell_type": "code",
   "execution_count": 142,
   "id": "77308be5",
   "metadata": {},
   "outputs": [
    {
     "data": {
      "image/png": "[encoded data removed]",
      "text/plain": [
       "<Figure size 432x288 with 1 Axes>"
      ]
     },
     "metadata": {
      "needs_background": "light"
     },
     "output_type": "display_data"
    }
   ],
   "source": [
    "feat_importances = pd.Series(etc.feature_importances_, index=X_train.columns)\n",
    "feat_importances.nlargest(6).plot(kind='bar')\n",
    "plt.show()"
   ]
  },
  {
   "cell_type": "markdown",
   "id": "aedd28a0",
   "metadata": {},
   "source": [
    "## Model 6: AdaBoost Classifier"
   ]
  },
  {
   "cell_type": "code",
   "execution_count": 143,
   "id": "2612d0a0",
   "metadata": {},
   "outputs": [],
   "source": [
    "from sklearn.ensemble import AdaBoostClassifier"
   ]
  },
  {
   "cell_type": "code",
   "execution_count": 144,
   "id": "30a64c90",
   "metadata": {},
   "outputs": [],
   "source": [
    "model_ada = AdaBoostClassifier()\n",
    "model_ada.fit(X_train,y_train)\n",
    "y_pred_ada=model_ada.predict(X_test)"
   ]
  },
  {
   "cell_type": "code",
   "execution_count": 145,
   "id": "3d055c75",
   "metadata": {},
   "outputs": [
    {
     "data": {
      "text/plain": [
       "0.8477560877440129"
      ]
     },
     "execution_count": 145,
     "metadata": {},
     "output_type": "execute_result"
    }
   ],
   "source": [
    "acc_ada = accuracy_score(y_test,y_pred_ada)\n",
    "acc_ada"
   ]
  },
  {
   "cell_type": "code",
   "execution_count": 146,
   "id": "8cd330c4",
   "metadata": {},
   "outputs": [
    {
     "data": {
      "text/plain": [
       "0.8578083956980721"
      ]
     },
     "execution_count": 146,
     "metadata": {},
     "output_type": "execute_result"
    }
   ],
   "source": [
    "model_ada.score(X_train,y_train)"
   ]
  },
  {
   "cell_type": "code",
   "execution_count": 147,
   "id": "9fff6fd7",
   "metadata": {},
   "outputs": [],
   "source": [
    "grid_param = {\"n_estimators\" : [90,100,130,150],\n",
    "              \"learning_rate\" : [0.001,0.01,0.1,0.5]\n",
    "             }"
   ]
  },
  {
   "cell_type": "code",
   "execution_count": 148,
   "id": "68a80107",
   "metadata": {},
   "outputs": [],
   "source": [
    "from sklearn.model_selection import GridSearchCV\n",
    "grid_search_ada=GridSearchCV(estimator=model_ada,param_grid=grid_param,cv=3,verbose=1,n_jobs=-1)"
   ]
  },
  {
   "cell_type": "code",
   "execution_count": 149,
   "id": "78bff038",
   "metadata": {},
   "outputs": [
    {
     "name": "stdout",
     "output_type": "stream",
     "text": [
      "Fitting 3 folds for each of 16 candidates, totalling 48 fits\n"
     ]
    },
    {
     "data": {
      "text/plain": [
       "GridSearchCV(cv=3, estimator=AdaBoostClassifier(), n_jobs=-1,\n",
       "             param_grid={'learning_rate': [0.001, 0.01, 0.1, 0.5],\n",
       "                         'n_estimators': [90, 100, 130, 150]},\n",
       "             verbose=1)"
      ]
     },
     "execution_count": 149,
     "metadata": {},
     "output_type": "execute_result"
    }
   ],
   "source": [
    "grid_search_ada.fit(X_train,y_train)"
   ]
  },
  {
   "cell_type": "code",
   "execution_count": 150,
   "id": "5fb5ff42",
   "metadata": {},
   "outputs": [
    {
     "data": {
      "text/plain": [
       "{'learning_rate': 0.5, 'n_estimators': 150}"
      ]
     },
     "execution_count": 150,
     "metadata": {},
     "output_type": "execute_result"
    }
   ],
   "source": [
    "grid_search_ada.best_params_"
   ]
  },
  {
   "cell_type": "code",
   "execution_count": 151,
   "id": "7a921103",
   "metadata": {},
   "outputs": [],
   "source": [
    "new_model=AdaBoostClassifier(learning_rate=0.5,n_estimators=150)"
   ]
  },
  {
   "cell_type": "code",
   "execution_count": 152,
   "id": "502279da",
   "metadata": {},
   "outputs": [
    {
     "data": {
      "text/plain": [
       "AdaBoostClassifier(learning_rate=0.5, n_estimators=150)"
      ]
     },
     "execution_count": 152,
     "metadata": {},
     "output_type": "execute_result"
    }
   ],
   "source": [
    "new_model.fit(X_train,y_train)"
   ]
  },
  {
   "cell_type": "code",
   "execution_count": 153,
   "id": "6ffa90c3",
   "metadata": {},
   "outputs": [],
   "source": [
    "y_pred_new_ada=new_model.predict(X_test)"
   ]
  },
  {
   "cell_type": "code",
   "execution_count": 154,
   "id": "77002a62",
   "metadata": {},
   "outputs": [
    {
     "data": {
      "text/plain": [
       "0.8515797947273093"
      ]
     },
     "execution_count": 154,
     "metadata": {},
     "output_type": "execute_result"
    }
   ],
   "source": [
    "acc_ada_new = accuracy_score(y_test,y_pred_new_ada)\n",
    "acc_ada_new"
   ]
  },
  {
   "cell_type": "code",
   "execution_count": 156,
   "id": "6df092f8",
   "metadata": {},
   "outputs": [
    {
     "data": {
      "text/plain": [
       "array([[6965,  460],\n",
       "       [1015, 1498]], dtype=int64)"
      ]
     },
     "execution_count": 156,
     "metadata": {},
     "output_type": "execute_result"
    }
   ],
   "source": [
    "# Confusion Matrix\n",
    "conf_mat_ada = confusion_matrix(y_test,y_pred_new_ada)\n",
    "conf_mat_ada"
   ]
  },
  {
   "cell_type": "code",
   "execution_count": 157,
   "id": "8e052833",
   "metadata": {},
   "outputs": [
    {
     "name": "stdout",
     "output_type": "stream",
     "text": [
      "              precision    recall  f1-score   support\n",
      "\n",
      "           0       0.87      0.94      0.90      7425\n",
      "           1       0.77      0.60      0.67      2513\n",
      "\n",
      "    accuracy                           0.85      9938\n",
      "   macro avg       0.82      0.77      0.79      9938\n",
      "weighted avg       0.85      0.85      0.85      9938\n",
      "\n"
     ]
    }
   ],
   "source": [
    "print(classification_report(y_test,y_pred_new_ada))"
   ]
  },
  {
   "cell_type": "code",
   "execution_count": 159,
   "id": "6e66349e",
   "metadata": {},
   "outputs": [
    {
     "data": {
      "text/plain": [
       "0.767073708299335"
      ]
     },
     "execution_count": 159,
     "metadata": {},
     "output_type": "execute_result"
    }
   ],
   "source": [
    "# Area Under Curve\n",
    "auc = roc_auc_score(y_test, y_pred_new_ada)\n",
    "auc"
   ]
  },
  {
   "cell_type": "markdown",
   "id": "eb049560",
   "metadata": {},
   "source": [
    "## Feature Importance"
   ]
  },
  {
   "cell_type": "code",
   "execution_count": 160,
   "id": "bcd7a37b",
   "metadata": {},
   "outputs": [
    {
     "data": {
      "text/plain": [
       "array([0.08      , 0.00666667, 0.04      , 0.13333333, 0.04      ,\n",
       "       0.19333333, 0.06      , 0.00666667, 0.03333333, 0.18666667,\n",
       "       0.17333333, 0.02666667, 0.02      ])"
      ]
     },
     "execution_count": 160,
     "metadata": {},
     "output_type": "execute_result"
    }
   ],
   "source": [
    "new_model.feature_importances_"
   ]
  },
  {
   "cell_type": "code",
   "execution_count": 161,
   "id": "0a4ed249",
   "metadata": {},
   "outputs": [
    {
     "data": {
      "image/png": "[encoded data removed]",
      "text/plain": [
       "<Figure size 432x288 with 1 Axes>"
      ]
     },
     "metadata": {
      "needs_background": "light"
     },
     "output_type": "display_data"
    }
   ],
   "source": [
    "feat_importances = pd.Series(new_model.feature_importances_, index=X_train.columns)\n",
    "feat_importances.nlargest(6).plot(kind='bar')\n",
    "plt.show()"
   ]
  },
  {
   "cell_type": "markdown",
   "id": "1547e487",
   "metadata": {},
   "source": [
    "## Model 7: Gradient Boosting Classifier"
   ]
  },
  {
   "cell_type": "code",
   "execution_count": 162,
   "id": "f858ad0a",
   "metadata": {},
   "outputs": [],
   "source": [
    "from sklearn.ensemble import GradientBoostingClassifier\n",
    "model_gbm=GradientBoostingClassifier()"
   ]
  },
  {
   "cell_type": "code",
   "execution_count": 163,
   "id": "f76d5563",
   "metadata": {},
   "outputs": [
    {
     "data": {
      "text/plain": [
       "GradientBoostingClassifier()"
      ]
     },
     "execution_count": 163,
     "metadata": {},
     "output_type": "execute_result"
    }
   ],
   "source": [
    "model_gbm.fit(X_train,y_train)"
   ]
  },
  {
   "cell_type": "code",
   "execution_count": 164,
   "id": "0824ec93",
   "metadata": {},
   "outputs": [],
   "source": [
    "y_pred_gbm = model_gbm.predict(X_test)"
   ]
  },
  {
   "cell_type": "code",
   "execution_count": 165,
   "id": "05b40434",
   "metadata": {},
   "outputs": [
    {
     "data": {
      "text/plain": [
       "0.8547997585027168"
      ]
     },
     "execution_count": 165,
     "metadata": {},
     "output_type": "execute_result"
    }
   ],
   "source": [
    "acc_gbm = accuracy_score(y_test,y_pred_gbm)\n",
    "acc_gbm"
   ]
  },
  {
   "cell_type": "code",
   "execution_count": 166,
   "id": "ddf83fad",
   "metadata": {},
   "outputs": [
    {
     "data": {
      "text/plain": [
       "0.8661842692174258"
      ]
     },
     "execution_count": 166,
     "metadata": {},
     "output_type": "execute_result"
    }
   ],
   "source": [
    "model_gbm.score(X_train,y_train)"
   ]
  },
  {
   "cell_type": "code",
   "execution_count": 170,
   "id": "a0b327c5",
   "metadata": {},
   "outputs": [
    {
     "data": {
      "text/plain": [
       "array([[6996,  429],\n",
       "       [1014, 1499]], dtype=int64)"
      ]
     },
     "execution_count": 170,
     "metadata": {},
     "output_type": "execute_result"
    }
   ],
   "source": [
    "# Confusion Matrix\n",
    "conf_mat_gbm = confusion_matrix(y_test,y_pred_gbm)\n",
    "conf_mat_gbm"
   ]
  },
  {
   "cell_type": "code",
   "execution_count": 171,
   "id": "f94b4ed9",
   "metadata": {},
   "outputs": [
    {
     "name": "stdout",
     "output_type": "stream",
     "text": [
      "              precision    recall  f1-score   support\n",
      "\n",
      "           0       0.87      0.94      0.91      7425\n",
      "           1       0.78      0.60      0.68      2513\n",
      "\n",
      "    accuracy                           0.85      9938\n",
      "   macro avg       0.83      0.77      0.79      9938\n",
      "weighted avg       0.85      0.85      0.85      9938\n",
      "\n"
     ]
    }
   ],
   "source": [
    "print(classification_report(y_test,y_pred_gbm))"
   ]
  },
  {
   "cell_type": "code",
   "execution_count": 172,
   "id": "ef279095",
   "metadata": {},
   "outputs": [
    {
     "data": {
      "text/plain": [
       "0.769360215766901"
      ]
     },
     "execution_count": 172,
     "metadata": {},
     "output_type": "execute_result"
    }
   ],
   "source": [
    "# Area Under Curve\n",
    "auc = roc_auc_score(y_test, y_pred_gbm)\n",
    "auc"
   ]
  },
  {
   "cell_type": "markdown",
   "id": "6384936f",
   "metadata": {},
   "source": [
    "## Feature Importance"
   ]
  },
  {
   "cell_type": "code",
   "execution_count": 173,
   "id": "50cec9b5",
   "metadata": {},
   "outputs": [
    {
     "data": {
      "text/plain": [
       "array([0.0681308 , 0.00101177, 0.00348501, 0.08392973, 0.38326969,\n",
       "       0.08103311, 0.01639755, 0.00059139, 0.00210942, 0.23172768,\n",
       "       0.0785316 , 0.04663507, 0.00314719])"
      ]
     },
     "execution_count": 173,
     "metadata": {},
     "output_type": "execute_result"
    }
   ],
   "source": [
    "model_gbm.feature_importances_"
   ]
  },
  {
   "cell_type": "code",
   "execution_count": 174,
   "id": "b39d2c11",
   "metadata": {},
   "outputs": [
    {
     "data": {
      "image/png": "[encoded data removed]",
      "text/plain": [
       "<Figure size 432x288 with 1 Axes>"
      ]
     },
     "metadata": {
      "needs_background": "light"
     },
     "output_type": "display_data"
    }
   ],
   "source": [
    "feat_importances = pd.Series(model_gbm.feature_importances_, index=X_train.columns)\n",
    "feat_importances.nlargest(6).plot(kind='bar')\n",
    "plt.show()"
   ]
  },
  {
   "cell_type": "markdown",
   "id": "8f4cdf2a",
   "metadata": {},
   "source": [
    "## Model 8:  XGBoost Classifier"
   ]
  },
  {
   "cell_type": "code",
   "execution_count": 176,
   "id": "5bae0c21",
   "metadata": {},
   "outputs": [],
   "source": [
    "import xgboost"
   ]
  },
  {
   "cell_type": "code",
   "execution_count": 177,
   "id": "e6dd95da",
   "metadata": {},
   "outputs": [],
   "source": [
    "from xgboost import XGBClassifier\n",
    "model_xgb=XGBClassifier()"
   ]
  },
  {
   "cell_type": "code",
   "execution_count": 178,
   "id": "a256449d",
   "metadata": {},
   "outputs": [
    {
     "data": {
      "text/plain": [
       "XGBClassifier(base_score=0.5, booster='gbtree', callbacks=None,\n",
       "              colsample_bylevel=1, colsample_bynode=1, colsample_bytree=1,\n",
       "              early_stopping_rounds=None, enable_categorical=False,\n",
       "              eval_metric=None, feature_types=None, gamma=0, gpu_id=-1,\n",
       "              grow_policy='depthwise', importance_type=None,\n",
       "              interaction_constraints='', learning_rate=0.300000012,\n",
       "              max_bin=256, max_cat_threshold=64, max_cat_to_onehot=4,\n",
       "              max_delta_step=0, max_depth=6, max_leaves=0, min_child_weight=1,\n",
       "              missing=nan, monotone_constraints='()', n_estimators=100,\n",
       "              n_jobs=0, num_parallel_tree=1, predictor='auto', random_state=0, ...)"
      ]
     },
     "execution_count": 178,
     "metadata": {},
     "output_type": "execute_result"
    }
   ],
   "source": [
    "model_xgb.fit(X_train,y_train)"
   ]
  },
  {
   "cell_type": "code",
   "execution_count": 179,
   "id": "2f7f0ff3",
   "metadata": {},
   "outputs": [],
   "source": [
    "y_pred_xgb=model_xgb.predict(X_test)"
   ]
  },
  {
   "cell_type": "code",
   "execution_count": 180,
   "id": "bda01d8e",
   "metadata": {},
   "outputs": [
    {
     "data": {
      "text/plain": [
       "0.8647615214328839"
      ]
     },
     "execution_count": 180,
     "metadata": {},
     "output_type": "execute_result"
    }
   ],
   "source": [
    "acc_xgb = accuracy_score(y_test,y_pred_xgb)\n",
    "acc_xgb"
   ]
  },
  {
   "cell_type": "code",
   "execution_count": 181,
   "id": "fa1c4f64",
   "metadata": {},
   "outputs": [
    {
     "data": {
      "text/plain": [
       "0.9112355652475591"
      ]
     },
     "execution_count": 181,
     "metadata": {},
     "output_type": "execute_result"
    }
   ],
   "source": [
    "model_xgb.score(X_train,y_train)"
   ]
  },
  {
   "cell_type": "code",
   "execution_count": 182,
   "id": "dbcef5a2",
   "metadata": {},
   "outputs": [
    {
     "data": {
      "text/plain": [
       "array([[6942,  483],\n",
       "       [ 861, 1652]], dtype=int64)"
      ]
     },
     "execution_count": 182,
     "metadata": {},
     "output_type": "execute_result"
    }
   ],
   "source": [
    "# Confusion Matrix\n",
    "conf_mat_xgb = confusion_matrix(y_test,y_pred_xgb)\n",
    "conf_mat_xgb"
   ]
  },
  {
   "cell_type": "code",
   "execution_count": 183,
   "id": "a5635c49",
   "metadata": {},
   "outputs": [
    {
     "name": "stdout",
     "output_type": "stream",
     "text": [
      "              precision    recall  f1-score   support\n",
      "\n",
      "           0       0.89      0.93      0.91      7425\n",
      "           1       0.77      0.66      0.71      2513\n",
      "\n",
      "    accuracy                           0.86      9938\n",
      "   macro avg       0.83      0.80      0.81      9938\n",
      "weighted avg       0.86      0.86      0.86      9938\n",
      "\n"
     ]
    }
   ],
   "source": [
    "print(classification_report(y_test,y_pred_xgb))"
   ]
  },
  {
   "cell_type": "code",
   "execution_count": 184,
   "id": "fce058b2",
   "metadata": {},
   "outputs": [
    {
     "data": {
      "text/plain": [
       "0.7961655552741903"
      ]
     },
     "execution_count": 184,
     "metadata": {},
     "output_type": "execute_result"
    }
   ],
   "source": [
    "# Area Under Curve\n",
    "auc = roc_auc_score(y_test, y_pred_xgb)\n",
    "auc"
   ]
  },
  {
   "cell_type": "markdown",
   "id": "08bdf331",
   "metadata": {},
   "source": [
    "## ROC"
   ]
  },
  {
   "cell_type": "code",
   "execution_count": 185,
   "id": "2e850822",
   "metadata": {},
   "outputs": [],
   "source": [
    "fpr, tpr, thresholds = roc_curve(y_test, y_pred_xgb)"
   ]
  },
  {
   "cell_type": "code",
   "execution_count": 186,
   "id": "15f1c331",
   "metadata": {},
   "outputs": [
    {
     "data": {
      "image/png": "[encoded data removed]",
      "text/plain": [
       "<Figure size 432x288 with 1 Axes>"
      ]
     },
     "metadata": {
      "needs_background": "light"
     },
     "output_type": "display_data"
    }
   ],
   "source": [
    "plt.plot(fpr, tpr, color='orange', label='ROC')\n",
    "plt.plot([0, 1], [0, 1], color='darkblue', linestyle='--',label='ROC curve (area = %0.2f)' % auc)\n",
    "plt.xlabel('False Positive Rate')\n",
    "plt.ylabel('True Positive Rate')\n",
    "plt.title('Receiver Operating Characteristic (ROC) Curve')\n",
    "plt.legend()\n",
    "plt.show()"
   ]
  },
  {
   "cell_type": "markdown",
   "id": "6c28c833",
   "metadata": {},
   "source": [
    "## Feature Importance"
   ]
  },
  {
   "cell_type": "code",
   "execution_count": 187,
   "id": "e11a7092",
   "metadata": {},
   "outputs": [
    {
     "data": {
      "text/plain": [
       "array([0.02561562, 0.0157109 , 0.01482938, 0.05924042, 0.51358324,\n",
       "       0.04349525, 0.02667557, 0.01592111, 0.03078043, 0.13975154,\n",
       "       0.06669301, 0.03220509, 0.01549845], dtype=float32)"
      ]
     },
     "execution_count": 187,
     "metadata": {},
     "output_type": "execute_result"
    }
   ],
   "source": [
    "model_xgb.feature_importances_"
   ]
  },
  {
   "cell_type": "code",
   "execution_count": 188,
   "id": "9af1e16f",
   "metadata": {},
   "outputs": [
    {
     "data": {
      "image/png": "[encoded data removed]",
      "text/plain": [
       "<Figure size 432x288 with 1 Axes>"
      ]
     },
     "metadata": {
      "needs_background": "light"
     },
     "output_type": "display_data"
    }
   ],
   "source": [
    "feat_importances = pd.Series(model_xgb.feature_importances_, index=X_train.columns)\n",
    "feat_importances.nlargest(6).plot(kind='bar')\n",
    "plt.show()"
   ]
  }
 ],
 "metadata": {
  "kernelspec": {
   "display_name": "Python 3 (ipykernel)",
   "language": "python",
   "name": "python3"
  },
  "language_info": {
   "codemirror_mode": {
    "name": "ipython",
    "version": 3
   },
   "file_extension": ".py",
   "mimetype": "text/x-python",
   "name": "python",
   "nbconvert_exporter": "python",
   "pygments_lexer": "ipython3",
   "version": "3.9.7"
  }
 },
 "nbformat": 4,
 "nbformat_minor": 5
}
